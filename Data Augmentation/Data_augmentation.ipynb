{
 "cells": [
  {
   "cell_type": "markdown",
   "metadata": {},
   "source": [
    "# Data Augmentation\n",
    "\n",
    "- nlpaug\n",
    "- TextAttack 🐙"
   ]
  },
  {
   "cell_type": "code",
   "execution_count": 2,
   "metadata": {},
   "outputs": [
    {
     "name": "stdout",
     "output_type": "stream",
     "text": [
      "Pizza is a dish of Italian origin consisting of a usually round, flat base of leavened wheat-based dough topped with tomatoes, cheese, and often various other ingredients (such as various types of sausage, anchovies, mushrooms, onions, olives, vegetables, meat, ham, etc.), which is then baked at a high temperature, traditionally in a wood-fired oven.\n"
     ]
    }
   ],
   "source": [
    "text = '''Pizza is a dish of Italian origin consisting of a usually round, flat base of leavened wheat-based dough topped with tomatoes, cheese, and often various other ingredients (such as various types of sausage, anchovies, mushrooms, onions, olives, vegetables, meat, ham, etc.), which is then baked at a high temperature, traditionally in a wood-fired oven.'''\n",
    "print(text)"
   ]
  },
  {
   "cell_type": "markdown",
   "metadata": {},
   "source": [
    "# nlpaug"
   ]
  },
  {
   "cell_type": "code",
   "execution_count": null,
   "metadata": {},
   "outputs": [],
   "source": [
    "!pip install numpy requests nlpaug"
   ]
  },
  {
   "cell_type": "code",
   "execution_count": 4,
   "metadata": {},
   "outputs": [],
   "source": [
    "!pip install torch>=1.6.0 transformers>=4.11.3 sentencepiece"
   ]
  },
  {
   "cell_type": "code",
   "execution_count": 5,
   "metadata": {},
   "outputs": [],
   "source": [
    "!pip install nltk>=3.4.5"
   ]
  },
  {
   "cell_type": "markdown",
   "metadata": {},
   "source": [
    "---"
   ]
  },
  {
   "cell_type": "code",
   "execution_count": 7,
   "metadata": {},
   "outputs": [],
   "source": [
    "import os\n",
    "os.environ[\"MODEL_DIR\"] = '../model'"
   ]
  },
  {
   "cell_type": "code",
   "execution_count": 12,
   "metadata": {},
   "outputs": [],
   "source": [
    "model_dir = os.environ[\"MODEL_DIR\"]"
   ]
  },
  {
   "cell_type": "code",
   "execution_count": 19,
   "metadata": {},
   "outputs": [
    {
     "name": "stderr",
     "output_type": "stream",
     "text": [
      "[nltk_data] Downloading package wordnet to /root/nltk_data...\n",
      "[nltk_data]   Package wordnet is already up-to-date!\n",
      "[nltk_data] Downloading package omw-1.4 to /root/nltk_data...\n"
     ]
    },
    {
     "data": {
      "text/plain": [
       "True"
      ]
     },
     "execution_count": 19,
     "metadata": {},
     "output_type": "execute_result"
    }
   ],
   "source": [
    "import nlpaug.augmenter.char as nac\n",
    "import nlpaug.augmenter.word as naw\n",
    "import nlpaug.augmenter.sentence as nas\n",
    "import nlpaug.flow as nafc\n",
    "\n",
    "from nlpaug.util import Action\n",
    "\n",
    "import nltk\n",
    "nltk.download('wordnet')\n",
    "nltk.download('omw-1.4')"
   ]
  },
  {
   "cell_type": "markdown",
   "metadata": {},
   "source": [
    "# Character Augmenter\n",
    "\n",
    "Augmenting data in character level. Possible scenarios include image to text and chatbot. During recognizing text from image, we need to optical character recognition (OCR) model to achieve it but OCR introduces some errors such as recognizing \"o\" and \"0\". `OCRAug` simulate these errors to perform the data augmentation. For chatbot, we still have typo even though most of application comes with word correction. Therefore, `KeyboardAug` is introduced to simulate this kind of errors.\n",
    "\n",
    "## OCR Augmenter\n",
    "### Substitute character by pre-defined OCR error"
   ]
  },
  {
   "cell_type": "code",
   "execution_count": 20,
   "metadata": {},
   "outputs": [
    {
     "name": "stdout",
     "output_type": "stream",
     "text": [
      "Original:\n",
      "Pizza is a dish of Italian origin consisting of a usually round, flat base of leavened wheat-based dough topped with tomatoes, cheese, and often various other ingredients (such as various types of sausage, anchovies, mushrooms, onions, olives, vegetables, meat, ham, etc.), which is then baked at a high temperature, traditionally in a wood-fired oven.\n",
      "\n",
      "Augmented Texts:\n",
      "['Pizza is a dish 0f Italian origin consisting of a usually round, flat 6a8e of leavened wheat - based dough topped with tomatoes, cheese, and uften various other ingredients (such as various types of sausage, anchovies, mushrooms, onions, olives, vegetables, meat, ham, etc. ), which is then baked at a hi9h temperature, traditionally in a wood - fired oven.', 'Pizza is a dish of Italian origin consisting uf a osoa1ly koond, flat base of leavened wheat - based dough topped with tomatoes, cheese, and often various other ingredients (such as various types of sausage, anchovies, mushrooms, onions, olives, vegetables, meat, ham, etc. ), which is then baked at a high temperature, traditionally in a wood - fired oven.', 'Pizza is a dish of Italian origin consisting of a osoa1ly round, f1at base of leavened wheat - based dough topped with tomatoes, cheese, and often various other ingredients (such as various types of sausage, anchovies, mushrooms, onions, olives, ve9eta61es, meat, ham, etc. ), which is then baked at a high tempekatoke, traditionally in a w00d - fired oven.']\n"
     ]
    }
   ],
   "source": [
    "aug = nac.OcrAug()\n",
    "augmented_texts = aug.augment(text, n=3)\n",
    "print(\"Original:\")\n",
    "print(text)\n",
    "print(\"\\nAugmented Texts:\")\n",
    "print(augmented_texts)"
   ]
  },
  {
   "cell_type": "markdown",
   "metadata": {},
   "source": [
    "## Keyboard Augmenter\n",
    "### Substitute character by keyboard distance"
   ]
  },
  {
   "cell_type": "code",
   "execution_count": 34,
   "metadata": {},
   "outputs": [
    {
     "name": "stdout",
     "output_type": "stream",
     "text": [
      "Original:\n",
      "Pizza is a dish of Italian origin consisting of a usually round, flat base of leavened wheat-based dough topped with tomatoes, cheese, and often various other ingredients (such as various types of sausage, anchovies, mushrooms, onions, olives, vegetables, meat, ham, etc.), which is then baked at a high temperature, traditionally in a wood-fired oven.\n",
      "\n",
      "Augmented Text:\n",
      "Pizza is a diCh of Italian origin consisting of a usually round, flat base of ldavrned wheat - based dough toppex with tomatoes, cheese, and often various other ingredients (such as various typWs of sQusags, anchlcies, ,ushrLoms, onions, olivWs, vegetables, meat, ham, etc. ), which is then baked at a high tW<oerature, traditionally in a wood - fir#d oven.\n"
     ]
    }
   ],
   "source": [
    "aug = nac.KeyboardAug()\n",
    "augmented_text = aug.augment(text)\n",
    "print(\"Original:\")\n",
    "print(text)\n",
    "print(\"\\nAugmented Text:\")\n",
    "print(augmented_text)"
   ]
  },
  {
   "cell_type": "markdown",
   "metadata": {},
   "source": [
    "## Random Augmenter\n",
    "### Insert character randomly"
   ]
  },
  {
   "cell_type": "code",
   "execution_count": 32,
   "metadata": {},
   "outputs": [
    {
     "name": "stdout",
     "output_type": "stream",
     "text": [
      "Original:\n",
      "The quick brown fox jumped over the lazy dog\n",
      "\n",
      "Augmented Text:\n",
      "The quXick brown fox jumped over the laozy dog\n"
     ]
    }
   ],
   "source": [
    "aug = nac.RandomCharAug(action=\"insert\")\n",
    "augmented_text = aug.augment(text)\n",
    "print(\"Original:\")\n",
    "print(text)\n",
    "print(\"\\nAugmented Text:\")\n",
    "print(augmented_text)"
   ]
  },
  {
   "cell_type": "markdown",
   "metadata": {},
   "source": [
    "### Substitute character randomly"
   ]
  },
  {
   "cell_type": "code",
   "execution_count": 23,
   "metadata": {},
   "outputs": [
    {
     "name": "stdout",
     "output_type": "stream",
     "text": [
      "Original:\n",
      "Pizza is a dish of Italian origin consisting of a usually round, flat base of leavened wheat-based dough topped with tomatoes, cheese, and often various other ingredients (such as various types of sausage, anchovies, mushrooms, onions, olives, vegetables, meat, ham, etc.), which is then baked at a high temperature, traditionally in a wood-fired oven.\n",
      "\n",
      "Augmented Text:\n",
      "['Pizza is a dish of Italian orcgbn consisting of a usually r0u&d, flat E+se of leavened wherk - bas%d dough topped with tomatoes, cheese, and often various other ingredients (such as ve(ioup types of sausage, ancX4eies, mus_rFom_, onions, olEEes, vegetables, meat, ham, etc. ), which is then baFe% at a high temperature, traditionally in a wood - fired oven.']\n"
     ]
    }
   ],
   "source": [
    "aug = nac.RandomCharAug(action=\"substitute\")\n",
    "augmented_text = aug.augment(text)\n",
    "print(\"Original:\")\n",
    "print(text)\n",
    "print(\"\\nAugmented Text:\")\n",
    "print(augmented_text)"
   ]
  },
  {
   "cell_type": "markdown",
   "metadata": {},
   "source": [
    "### Swap character randomly"
   ]
  },
  {
   "cell_type": "code",
   "execution_count": 24,
   "metadata": {},
   "outputs": [
    {
     "name": "stdout",
     "output_type": "stream",
     "text": [
      "Original:\n",
      "Pizza is a dish of Italian origin consisting of a usually round, flat base of leavened wheat-based dough topped with tomatoes, cheese, and often various other ingredients (such as various types of sausage, anchovies, mushrooms, onions, olives, vegetables, meat, ham, etc.), which is then baked at a high temperature, traditionally in a wood-fired oven.\n",
      "\n",
      "Augmented Text:\n",
      "['Pizza is a dish of Italian origin ocnsisitgn of a usually round, flat abes of leavened wheat - sbaed oduhg topped with tomatoes, cheese, and foetn various other ingredients (such as various tpyse of sausage, anchovies, mushrooms, onions, olives, egvetbales, meat, ham, etc. ), whhic is then baked at a high temperature, tarditoinlayl in a wood - fired vone.']\n"
     ]
    }
   ],
   "source": [
    "aug = nac.RandomCharAug(action=\"swap\")\n",
    "augmented_text = aug.augment(text)\n",
    "print(\"Original:\")\n",
    "print(text)\n",
    "print(\"\\nAugmented Text:\")\n",
    "print(augmented_text)"
   ]
  },
  {
   "cell_type": "markdown",
   "metadata": {},
   "source": [
    "### Delete character randomly"
   ]
  },
  {
   "cell_type": "code",
   "execution_count": 26,
   "metadata": {},
   "outputs": [
    {
     "name": "stdout",
     "output_type": "stream",
     "text": [
      "Original:\n",
      "Pizza is a dish of Italian origin consisting of a usually round, flat base of leavened wheat-based dough topped with tomatoes, cheese, and often various other ingredients (such as various types of sausage, anchovies, mushrooms, onions, olives, vegetables, meat, ham, etc.), which is then baked at a high temperature, traditionally in a wood-fired oven.\n",
      "\n",
      "Augmented Text:\n",
      "['zza is a dish of Italian origin consisting of a suly round, flat ba of leavened wheat - based dough topped with tomatoes, cheese, and oft various other ingredients (uh as vaus types of sausage, anchovies, mushrooms, onions, oliv, vegeaes, at, ham, etc. ), which is then baked at a high erature, traditionally in a wood - fired oven.']\n"
     ]
    }
   ],
   "source": [
    "aug = nac.RandomCharAug(action=\"delete\")\n",
    "augmented_text = aug.augment(text)\n",
    "print(\"Original:\")\n",
    "print(text)\n",
    "print(\"\\nAugmented Text:\")\n",
    "print(augmented_text)"
   ]
  },
  {
   "cell_type": "markdown",
   "metadata": {},
   "source": [
    "# Word Augmenter\n",
    "\n",
    "Besides character augmentation, word level is important as well. We make use of word2vec (Mikolov et al., 2013), GloVe (Pennington et al., 2014), fasttext (Joulin et al., 2016), BERT(Devlin et al., 2018) and wordnet to insert and substitute similar word. `Word2vecAug`,  `GloVeAug` and `FasttextAug` use word embeddings to find most similar group of words to replace original word. On the other hand, `BertAug` use language models to predict possible target word. `WordNetAug` use statistics way to find the similar group of words.\n",
    "\n",
    "## Spelling Augmenter\n",
    "### Substitute word by spelling mistake words dictionary"
   ]
  },
  {
   "cell_type": "code",
   "execution_count": 28,
   "metadata": {},
   "outputs": [
    {
     "name": "stdout",
     "output_type": "stream",
     "text": [
      "Original:\n",
      "Pizza is a dish of Italian origin consisting of a usually round, flat base of leavened wheat-based dough topped with tomatoes, cheese, and often various other ingredients (such as various types of sausage, anchovies, mushrooms, onions, olives, vegetables, meat, ham, etc.), which is then baked at a high temperature, traditionally in a wood-fired oven.\n",
      "\n",
      "Augmented Texts:\n",
      "['Pizza wis a dish of Italyan origin consisting of a usually round, flat based of leavened wheat - basead dough topped witc tomatoes, cheese, and often variuos other ingredients (such is varoius types of sausage, anchovies, mushrooms, onions, olives, vegetables, meat, ham, ecc. ), which is then baked at a high temperature, traditionally in an wood - fired oven.', \"Pizza is a dish of Italin origin consisting oof a usually rond, flat base of leavened wheat - basead dough topped with tomatoes, cheese, and ofthen various other ingredients (such as varios types lf sausage, anchovies, mushrooms, union, olives, vegetables, meat, ham, etc. ), which isn't ten baked at a high temperature, traditionally in a wood - fired oven.\", 'Pizza e a dish of Italian origin consisting of a usually roung, flat base of leavened wheat - based dough topped with tomatoes, cheese, and often variuos other ingredients (surch as varies types ol sausage, anchovies, mushrooms, onions, olives, vegetables, meats, ham, etc. ), which is then baked at a high temperature, traditionally ni ein wood - fried oven.']\n"
     ]
    }
   ],
   "source": [
    "aug = naw.SpellingAug()\n",
    "augmented_texts = aug.augment(text, n=3)\n",
    "print(\"Original:\")\n",
    "print(text)\n",
    "print(\"\\nAugmented Texts:\")\n",
    "print(augmented_texts)"
   ]
  },
  {
   "cell_type": "markdown",
   "metadata": {},
   "source": [
    "## Synonym Augmenter\n",
    "### Substitute word by WordNet's synonym"
   ]
  },
  {
   "cell_type": "code",
   "execution_count": 24,
   "metadata": {},
   "outputs": [
    {
     "name": "stdout",
     "output_type": "stream",
     "text": [
      "Original:\n",
      "Pizza is a dish of Italian origin consisting of a usually round, flat base of leavened wheat-based dough topped with tomatoes, cheese, and often various other ingredients (such as various types of sausage, anchovies, mushrooms, onions, olives, vegetables, meat, ham, etc.), which is then baked at a high temperature, traditionally in a wood-fired oven.\n",
      "\n",
      "Augmented Text:\n",
      "Pizza is a bag of Italian origin consisting of a ordinarily round, flat base of leavened wheat - based dough topped with love apple, cheese, and often various other ingredients (such as various types of sausage, anchovy, mushrooms, onions, olives, vegetable, kernel, ham, etc. ), which is and so baked at a high temperature, traditionally in a wood - fired oven.\n"
     ]
    }
   ],
   "source": [
    "aug = naw.SynonymAug(aug_src='wordnet')\n",
    "augmented_text = aug.augment(text)\n",
    "print(\"Original:\")\n",
    "print(text)\n",
    "print(\"\\nAugmented Text:\")\n",
    "print(augmented_text)"
   ]
  },
  {
   "cell_type": "markdown",
   "metadata": {},
   "source": [
    "## Antonym Augmenter\n",
    "### Substitute word by antonym"
   ]
  },
  {
   "cell_type": "code",
   "execution_count": 26,
   "metadata": {},
   "outputs": [
    {
     "name": "stdout",
     "output_type": "stream",
     "text": [
      "Original:\n",
      "Pizza is a dish of Italian origin consisting of a usually round, flat base of leavened wheat-based dough topped with tomatoes, cheese, and often various other ingredients (such as various types of sausage, anchovies, mushrooms, onions, olives, vegetables, meat, ham, etc.), which is then baked at a high temperature, traditionally in a wood-fired oven.\n",
      "\n",
      "Augmented Text:\n",
      "Pizza differ a dish of Italian origin consisting of a remarkably round, natural base of unleavened wheat - based dough topped with tomatoes, cheese, and rarely various same ingredients (such as various types of sausage, anchovies, mushrooms, onions, olives, vegetables, meat, ham, etc. ), which differ then baked at a low temperature, traditionally in a wood - hire oven.\n"
     ]
    }
   ],
   "source": [
    "aug = naw.AntonymAug()\n",
    "augmented_text = aug.augment(text)\n",
    "print(\"Original:\")\n",
    "print(text)\n",
    "print(\"\\nAugmented Text:\")\n",
    "print(augmented_text)"
   ]
  },
  {
   "cell_type": "markdown",
   "metadata": {},
   "source": [
    "## Random Word Augmenter\n",
    "### Swap word randomly"
   ]
  },
  {
   "cell_type": "code",
   "execution_count": 35,
   "metadata": {},
   "outputs": [
    {
     "name": "stdout",
     "output_type": "stream",
     "text": [
      "Original:\n",
      "Pizza is a dish of Italian origin consisting of a usually round, flat base of leavened wheat-based dough topped with tomatoes, cheese, and often various other ingredients (such as various types of sausage, anchovies, mushrooms, onions, olives, vegetables, meat, ham, etc.), which is then baked at a high temperature, traditionally in a wood-fired oven.\n",
      "\n",
      "Augmented Text:\n",
      "Is pizza a dish Italian of origin consisting of a usually round, flat base of wheat leavened - based dough topped, with tomatoes cheese, and often various other (ingredients such various as types of sausage, anchovies, mushrooms, onions, olives, vegetables, meat ham, , etc. ), is which baked then at a high temperature, traditionally in a wood - fired oven.\n"
     ]
    }
   ],
   "source": [
    "aug = naw.RandomWordAug(action=\"swap\")\n",
    "augmented_text = aug.augment(text)\n",
    "print(\"Original:\")\n",
    "print(text)\n",
    "print(\"\\nAugmented Text:\")\n",
    "print(augmented_text)"
   ]
  },
  {
   "cell_type": "markdown",
   "metadata": {},
   "source": [
    "### Delete word randomly"
   ]
  },
  {
   "cell_type": "code",
   "execution_count": 36,
   "metadata": {},
   "outputs": [
    {
     "name": "stdout",
     "output_type": "stream",
     "text": [
      "Original:\n",
      "Pizza is a dish of Italian origin consisting of a usually round, flat base of leavened wheat-based dough topped with tomatoes, cheese, and often various other ingredients (such as various types of sausage, anchovies, mushrooms, onions, olives, vegetables, meat, ham, etc.), which is then baked at a high temperature, traditionally in a wood-fired oven.\n",
      "\n",
      "Augmented Text:\n",
      "Pizza is a dish of Italian origin consisting a usually, flat base of leavened wheat - dough with tomatoes, cheese, and often various ingredients (such various of sausage, , mushrooms, onions, olives, , meat, , etc. ), which is then baked at a high temperature, traditionally in a wood - fired oven.\n"
     ]
    }
   ],
   "source": [
    "aug = naw.RandomWordAug()\n",
    "augmented_text = aug.augment(text)\n",
    "print(\"Original:\")\n",
    "print(text)\n",
    "print(\"\\nAugmented Text:\")\n",
    "print(augmented_text)"
   ]
  },
  {
   "cell_type": "markdown",
   "metadata": {},
   "source": [
    "### Delete a set of contunous word will be removed randomly"
   ]
  },
  {
   "cell_type": "code",
   "execution_count": 39,
   "metadata": {},
   "outputs": [
    {
     "name": "stdout",
     "output_type": "stream",
     "text": [
      "Original:\n",
      "Pizza is a dish of Italian origin consisting of a usually round, flat base of leavened wheat-based dough topped with tomatoes, cheese, and often various other ingredients (such as various types of sausage, anchovies, mushrooms, onions, olives, vegetables, meat, ham, etc.), which is then baked at a high temperature, traditionally in a wood-fired oven.\n",
      "\n",
      "Augmented Text:\n",
      "Pizza is a dish of Italian origin consisting of a usually round, flat base of leavened wheat - based dough topped with tomatoes, cheese, and often various other ingredients (such as various types of sausage, anchovies, mushrooms, onions, olives, vegetables, meat, ham a high temperature, traditionally in a wood - fired oven.\n"
     ]
    }
   ],
   "source": [
    "aug = naw.RandomWordAug(action='crop')\n",
    "augmented_text = aug.augment(text)\n",
    "print(\"Original:\")\n",
    "print(text)\n",
    "print(\"\\nAugmented Text:\")\n",
    "print(augmented_text)"
   ]
  },
  {
   "cell_type": "markdown",
   "metadata": {},
   "source": [
    "---"
   ]
  },
  {
   "cell_type": "markdown",
   "metadata": {},
   "source": [
    "# TextAttack 🐙"
   ]
  },
  {
   "cell_type": "code",
   "execution_count": null,
   "metadata": {},
   "outputs": [],
   "source": [
    "!pip install textattack --upgrade"
   ]
  },
  {
   "cell_type": "code",
   "execution_count": null,
   "metadata": {},
   "outputs": [],
   "source": [
    "!pip install tensorflow-text"
   ]
  },
  {
   "cell_type": "markdown",
   "metadata": {},
   "source": [
    "## WordNetAugmenter\n",
    "Wordnet augments text by replacing words with synonyms provided by WordNet."
   ]
  },
  {
   "cell_type": "code",
   "execution_count": 6,
   "metadata": {},
   "outputs": [
    {
     "name": "stderr",
     "output_type": "stream",
     "text": [
      "[nltk_data] Downloading package omw-1.4 to /root/nltk_data...\n",
      "[nltk_data]   Package omw-1.4 is already up-to-date!\n"
     ]
    },
    {
     "data": {
      "text/plain": [
       "['Pizza is a dish of Italian origin consisting of a usually rhythm, matte meanspirited of leavened wheat-based dough topped with tomatoes, cheese, and often various other ingredients (such as respective types of sausage, anchovies, mushrooms, onions, olives, vegetables, meat, ham, etc.), which is then baked at a gamy temperature, traditionally in a wood-fired oven.']"
      ]
     },
     "execution_count": 6,
     "metadata": {},
     "output_type": "execute_result"
    }
   ],
   "source": [
    "import textattack\n",
    "from textattack.augmentation import WordNetAugmenter\n",
    "\n",
    "wordnet_aug = WordNetAugmenter()\n",
    "wordnet_aug.augment(text)"
   ]
  },
  {
   "cell_type": "markdown",
   "metadata": {},
   "source": [
    "## EmbeddingAugmenter \n",
    "Embedding augments text by replacing words with neighbors in the counter-fitted embedding space, with a constraint to ensure their cosine similarity is at least 0.8."
   ]
  },
  {
   "cell_type": "code",
   "execution_count": null,
   "metadata": {},
   "outputs": [],
   "source": [
    "from textattack.augmentation import EmbeddingAugmenter\n",
    "embed_aug = EmbeddingAugmenter()\n",
    "embed_aug.augment(text)"
   ]
  },
  {
   "cell_type": "markdown",
   "metadata": {},
   "source": [
    "## CharSwapAugmenter \n",
    "It augments text by substituting, deleting, inserting, and swapping adjacent characters"
   ]
  },
  {
   "cell_type": "code",
   "execution_count": 3,
   "metadata": {},
   "outputs": [
    {
     "data": {
      "text/plain": [
       "['iPzza is a dish of Italian origin consisting of a usually round, flat gbase of leavened heat-based dough topped with tomatoes, cheese, and often various other ingredients (such as variou types of sausage, anchovies, mushrooms, onions, olives, vegetables, meat, ham, etc.), which is then baked at a high temperaeture, traditionally in a wood-fired oven.']"
      ]
     },
     "execution_count": 3,
     "metadata": {},
     "output_type": "execute_result"
    }
   ],
   "source": [
    "from textattack.augmentation import CharSwapAugmenter\n",
    "charswap_aug = CharSwapAugmenter()\n",
    "charswap_aug.augment(text)"
   ]
  },
  {
   "cell_type": "code",
   "execution_count": 6,
   "metadata": {},
   "outputs": [],
   "source": [
    "# import transformations, contraints, and the Augmenter\n",
    "from textattack.transformations import WordSwapRandomCharacterDeletion\n",
    "from textattack.transformations import WordSwapQWERTY\n",
    "from textattack.transformations import CompositeTransformation\n",
    "\n",
    "from textattack.constraints.pre_transformation import RepeatModification\n",
    "from textattack.constraints.pre_transformation import StopwordModification\n",
    "\n",
    "from textattack.augmentation import Augmenter"
   ]
  },
  {
   "cell_type": "code",
   "execution_count": 17,
   "metadata": {},
   "outputs": [
    {
     "data": {
      "text/plain": [
       "['Piza is a dih of Itallan origin conslsting of a usualky roun.',\n",
       " 'Piza is a dish of Italiah origi consising of a sually roun.',\n",
       " 'Pizz is a fish of Ialian ofigin cnsisting of a usjally round.',\n",
       " 'Pizza is a xish of Ialian otigin conisting of a ushally rounx.',\n",
       " 'Pizza is a xish of Itlian oriin fonsisting of a usuaily roun.',\n",
       " 'Plzza is a didh of Itakian origin consistiny of a sually rpund.',\n",
       " 'Puzza is a dsh of Itaian oigin consistkng of a usualiy round.',\n",
       " 'Pzza is a djsh of Italiqn oriin consistibg of a usully round.',\n",
       " 'izza is a dish of Italin orign conssting of a usully roun.',\n",
       " 'izza is a fish of Itwlian oritin consisting of a jsually roud.']"
      ]
     },
     "execution_count": 17,
     "metadata": {},
     "output_type": "execute_result"
    }
   ],
   "source": [
    "\n",
    "# Set up transformation using CompositeTransformation()\n",
    "transformation = CompositeTransformation([WordSwapRandomCharacterDeletion(), WordSwapQWERTY()])\n",
    "# Set up constraints\n",
    "constraints = [RepeatModification(), StopwordModification()]\n",
    "# Create augmenter with specified parameters\n",
    "augmenter = Augmenter(transformation=transformation, constraints=constraints, pct_words_to_swap=0.5, transformations_per_example=10)\n",
    "s = 'Pizza is a dish of Italian origin consisting of a usually round.'\n",
    "# Augment!\n",
    "augmenter.augment(s)"
   ]
  },
  {
   "cell_type": "markdown",
   "metadata": {},
   "source": [
    "## DeletionAugmenter\n",
    "This one augments the text by deleting some parts of the text to make new text."
   ]
  },
  {
   "cell_type": "code",
   "execution_count": 3,
   "metadata": {},
   "outputs": [
    {
     "data": {
      "text/plain": [
       "['Pizza is a dish of Italian origin consisting of a usually round, flat base of wheat-based dough topped tomatoes, cheese, and often various other ingredients (such as various types of sausage, anchovies, mushrooms, onions, olives,,, ham,.), which is then baked at a high temperature, traditionally in a wood-fired oven.']"
      ]
     },
     "execution_count": 3,
     "metadata": {},
     "output_type": "execute_result"
    }
   ],
   "source": [
    "from textattack.augmentation import DeletionAugmenter\n",
    "\n",
    "deletion_aug = DeletionAugmenter()\n",
    "deletion_aug.augment(text)"
   ]
  },
  {
   "cell_type": "markdown",
   "metadata": {},
   "source": [
    "## EasyDataAugmenter technique\n",
    "\n",
    "This augments the text with a combination of different methods, such as:\n",
    "- Randomly swapping the positions of the words in the sentence.\n",
    "- Randomly removing words from the sentence.\n",
    "- Randomly inserting a random synonym of a random word at a random location.\n",
    "- Randomly replacing words with their synonyms."
   ]
  },
  {
   "cell_type": "code",
   "execution_count": 4,
   "metadata": {},
   "outputs": [
    {
     "name": "stderr",
     "output_type": "stream",
     "text": [
      "[nltk_data] Downloading package omw-1.4 to /root/nltk_data...\n",
      "[nltk_data]   Package omw-1.4 is already up-to-date!\n"
     ]
    },
    {
     "data": {
      "text/plain": [
       "['Pizza is a bag of Italian origin consisting of a usually around, 2-dimensional alkali of leavened wheat-based dough topped with tomatoes, cheese, and often various other ingredients (such as various types of sausage, anchovies, mushrooms, onions, olives, veg, meat, ham, etc.), which is then baked at a high temperature, traditionally in a wood-fired oven.',\n",
       " 'Pizza is a dish of Italian origin consisting of a usually round, flat at base of leavened wheat-based dough topped with tomatoes, cheese, and often various other ingredients (such as various types of sausage, anchovies, mushrooms, At onions, olives, vegetables, meat, ham, etc.), which live is then baked at a high temperature, traditionally in a wood-fired oven.',\n",
       " 'is a dish of Italian origin consisting of a usually round, flat base of wheat-based dough topped with tomatoes, cheese, and often various other ingredients ( as various types of sausage,, mushrooms, onions, olives, vegetables,, ham, etc.), which is then baked at a high temperature, traditionally in a wood-fired oven.',\n",
       " 'Pizza is a dish of Italian origin consisting of a usually round, flat is of leavened wheat-based dough topped with tomatoes, cheese, and often various other ham (such as various types of sausage, anchovies, mushrooms, onions, olives, vegetables, meat, ingredients, etc.), which base then baked at a high in, traditionally temperature a wood-fired oven.']"
      ]
     },
     "execution_count": 4,
     "metadata": {},
     "output_type": "execute_result"
    }
   ],
   "source": [
    "from textattack.augmentation import EasyDataAugmenter\n",
    "\n",
    "eda_aug = EasyDataAugmenter()\n",
    "eda_aug.augment(text)"
   ]
  },
  {
   "cell_type": "code",
   "execution_count": null,
   "metadata": {},
   "outputs": [],
   "source": []
  }
 ],
 "metadata": {
  "instance_type": "ml.t3.medium",
  "kernelspec": {
   "display_name": "Python 3 (PyTorch 1.8 Python 3.6 GPU Optimized)",
   "language": "python",
   "name": "python3__SAGEMAKER_INTERNAL__arn:aws:sagemaker:us-east-1:081325390199:image/pytorch-1.8-gpu-py36"
  },
  "language_info": {
   "codemirror_mode": {
    "name": "ipython",
    "version": 3
   },
   "file_extension": ".py",
   "mimetype": "text/x-python",
   "name": "python",
   "nbconvert_exporter": "python",
   "pygments_lexer": "ipython3",
   "version": "3.6.13"
  }
 },
 "nbformat": 4,
 "nbformat_minor": 4
}
