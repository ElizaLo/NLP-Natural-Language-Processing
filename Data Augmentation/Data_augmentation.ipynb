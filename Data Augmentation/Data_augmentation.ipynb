{
 "cells": [
  {
   "cell_type": "markdown",
   "metadata": {},
   "source": [
    "# Data Augmentation Tutorial\n",
    "\n",
    "- Gensim\n",
    "- Transformers\n",
    "- nlpaug\n",
    "- TextAttack 🐙\n",
    "- Back Translation with MarianMT from HuggingFace\n",
    "- AugLy\n",
    "- TextAugment\n",
    "- GPT-3 by OpenAI"
   ]
  },
  {
   "cell_type": "code",
   "execution_count": 14,
   "metadata": {},
   "outputs": [
    {
     "name": "stdout",
     "output_type": "stream",
     "text": [
      "Pizza is a dish of Italian origin consisting of a usually round, flat base of leavened wheat-based dough topped with tomatoes, cheese, and often various other ingredients (such as various types of sausage, anchovies, mushrooms, onions, olives, vegetables, meat, ham, etc.), which is then baked at a high temperature, traditionally in a wood-fired oven.\n"
     ]
    }
   ],
   "source": [
    "text = '''Pizza is a dish of Italian origin consisting of a usually round, flat base of leavened wheat-based dough topped with tomatoes, cheese, and often various other ingredients (such as various types of sausage, anchovies, mushrooms, onions, olives, vegetables, meat, ham, etc.), which is then baked at a high temperature, traditionally in a wood-fired oven.'''\n",
    "print(text)"
   ]
  },
  {
   "cell_type": "markdown",
   "metadata": {},
   "source": [
    "---\n",
    "\n",
    "# Gensim\n",
    "\n",
    "## Word-Embeddings Substitution"
   ]
  },
  {
   "cell_type": "code",
   "execution_count": 9,
   "metadata": {},
   "outputs": [
    {
     "data": {
      "text/plain": [
       "[('pasta', 0.9345267415046692),\n",
       " ('chocolate', 0.9283044338226318),\n",
       " ('sushi', 0.9267594218254089),\n",
       " ('starbucks', 0.9123665690422058),\n",
       " ('nutella', 0.8918704986572266)]"
      ]
     },
     "execution_count": 9,
     "metadata": {},
     "output_type": "execute_result"
    }
   ],
   "source": [
    "import gensim.downloader as api\n",
    "\n",
    "model = api.load('glove-twitter-25')  \n",
    "model.most_similar('pizza', topn=5)"
   ]
  },
  {
   "cell_type": "markdown",
   "metadata": {},
   "source": [
    "---\n",
    "\n",
    "# Transformers\n",
    "\n",
    "> Works with TensorFlow environment in SageMaker"
   ]
  },
  {
   "cell_type": "code",
   "execution_count": null,
   "metadata": {},
   "outputs": [],
   "source": [
    "!pip install transformers"
   ]
  },
  {
   "cell_type": "code",
   "execution_count": 1,
   "metadata": {},
   "outputs": [
    {
     "name": "stderr",
     "output_type": "stream",
     "text": [
      "No model was supplied, defaulted to distilroberta-base and revision ec58a5b (https://huggingface.co/distilroberta-base).\n",
      "Using a pipeline without specifying a model name and revision in production is not recommended.\n",
      "All model checkpoint layers were used when initializing TFRobertaForMaskedLM.\n",
      "\n",
      "All the layers of TFRobertaForMaskedLM were initialized from the model checkpoint at distilroberta-base.\n",
      "If your task is similar to the task the model of the checkpoint was trained on, you can already use TFRobertaForMaskedLM for predictions without further training.\n"
     ]
    },
    {
     "data": {
      "text/plain": [
       "[{'score': 0.08497830480337143,\n",
       "  'token': 24381,\n",
       "  'token_str': ' dubious',\n",
       "  'sequence': 'Pizza is a dish of dubious origin'},\n",
       " {'score': 0.07489389181137085,\n",
       "  'token': 3108,\n",
       "  'token_str': ' Italian',\n",
       "  'sequence': 'Pizza is a dish of Italian origin'},\n",
       " {'score': 0.036742500960826874,\n",
       "  'token': 16820,\n",
       "  'token_str': ' culinary',\n",
       "  'sequence': 'Pizza is a dish of culinary origin'},\n",
       " {'score': 0.03182853385806084,\n",
       "  'token': 1362,\n",
       "  'token_str': ' Indian',\n",
       "  'sequence': 'Pizza is a dish of Indian origin'},\n",
       " {'score': 0.029324421659111977,\n",
       "  'token': 14083,\n",
       "  'token_str': ' humble',\n",
       "  'sequence': 'Pizza is a dish of humble origin'}]"
      ]
     },
     "execution_count": 1,
     "metadata": {},
     "output_type": "execute_result"
    }
   ],
   "source": [
    "from transformers import pipeline\n",
    "\n",
    "nlp = pipeline('fill-mask')\n",
    "\n",
    "nlp('Pizza is a dish of <mask> origin')"
   ]
  },
  {
   "cell_type": "code",
   "execution_count": 2,
   "metadata": {},
   "outputs": [
    {
     "data": {
      "text/plain": [
       "[[{'score': 0.18357928097248077,\n",
       "   'token': 3108,\n",
       "   'token_str': ' Italian',\n",
       "   'sequence': '<s>Pizza is a dish of Italian origin consisting of a<mask> round, flat base of leavened wheat-based dough topped with tomatoes, cheese, and often various other ingredients</s>'},\n",
       "  {'score': 0.07059834897518158,\n",
       "   'token': 11965,\n",
       "   'token_str': ' Mediterranean',\n",
       "   'sequence': '<s>Pizza is a dish of Mediterranean origin consisting of a<mask> round, flat base of leavened wheat-based dough topped with tomatoes, cheese, and often various other ingredients</s>'},\n",
       "  {'score': 0.0653436928987503,\n",
       "   'token': 14083,\n",
       "   'token_str': ' humble',\n",
       "   'sequence': '<s>Pizza is a dish of humble origin consisting of a<mask> round, flat base of leavened wheat-based dough topped with tomatoes, cheese, and often various other ingredients</s>'},\n",
       "  {'score': 0.03337021917104721,\n",
       "   'token': 16820,\n",
       "   'token_str': ' culinary',\n",
       "   'sequence': '<s>Pizza is a dish of culinary origin consisting of a<mask> round, flat base of leavened wheat-based dough topped with tomatoes, cheese, and often various other ingredients</s>'},\n",
       "  {'score': 0.025375153869390488,\n",
       "   'token': 4938,\n",
       "   'token_str': ' Mexican',\n",
       "   'sequence': '<s>Pizza is a dish of Mexican origin consisting of a<mask> round, flat base of leavened wheat-based dough topped with tomatoes, cheese, and often various other ingredients</s>'}],\n",
       " [{'score': 0.2529781460762024,\n",
       "   'token': 7174,\n",
       "   'token_str': ' thin',\n",
       "   'sequence': '<s>Pizza is a dish of<mask> origin consisting of a thin round, flat base of leavened wheat-based dough topped with tomatoes, cheese, and often various other ingredients</s>'},\n",
       "  {'score': 0.04724728316068649,\n",
       "   'token': 7992,\n",
       "   'token_str': ' thick',\n",
       "   'sequence': '<s>Pizza is a dish of<mask> origin consisting of a thick round, flat base of leavened wheat-based dough topped with tomatoes, cheese, and often various other ingredients</s>'},\n",
       "  {'score': 0.03215882182121277,\n",
       "   'token': 14998,\n",
       "   'token_str': ' lightly',\n",
       "   'sequence': '<s>Pizza is a dish of<mask> origin consisting of a lightly round, flat base of leavened wheat-based dough topped with tomatoes, cheese, and often various other ingredients</s>'},\n",
       "  {'score': 0.031700972467660904,\n",
       "   'token': 2829,\n",
       "   'token_str': ' slightly',\n",
       "   'sequence': '<s>Pizza is a dish of<mask> origin consisting of a slightly round, flat base of leavened wheat-based dough topped with tomatoes, cheese, and often various other ingredients</s>'},\n",
       "  {'score': 0.029328420758247375,\n",
       "   'token': 32042,\n",
       "   'token_str': ' crispy',\n",
       "   'sequence': '<s>Pizza is a dish of<mask> origin consisting of a crispy round, flat base of leavened wheat-based dough topped with tomatoes, cheese, and often various other ingredients</s>'}]]"
      ]
     },
     "execution_count": 2,
     "metadata": {},
     "output_type": "execute_result"
    }
   ],
   "source": [
    "nlp('Pizza is a dish of <mask> origin consisting of a <mask> round, flat base of leavened wheat-based dough topped with tomatoes, cheese, and often various other ingredients')"
   ]
  },
  {
   "cell_type": "code",
   "execution_count": 3,
   "metadata": {},
   "outputs": [
    {
     "data": {
      "text/plain": [
       "[[{'score': 0.16325989365577698,\n",
       "   'token': 7134,\n",
       "   'token_str': ' cheese',\n",
       "   'sequence': '<s>Pizza is a dish of Italian origin consisting of a usually round, flat base of leavened wheat-based dough topped with cheese,<mask>, and often various other<mask></s>'},\n",
       "  {'score': 0.08153437077999115,\n",
       "   'token': 18553,\n",
       "   'token_str': ' tomatoes',\n",
       "   'sequence': '<s>Pizza is a dish of Italian origin consisting of a usually round, flat base of leavened wheat-based dough topped with tomatoes,<mask>, and often various other<mask></s>'},\n",
       "  {'score': 0.0786515399813652,\n",
       "   'token': 20406,\n",
       "   'token_str': ' tomato',\n",
       "   'sequence': '<s>Pizza is a dish of Italian origin consisting of a usually round, flat base of leavened wheat-based dough topped with tomato,<mask>, and often various other<mask></s>'},\n",
       "  {'score': 0.060847487300634384,\n",
       "   'token': 21568,\n",
       "   'token_str': ' onions',\n",
       "   'sequence': '<s>Pizza is a dish of Italian origin consisting of a usually round, flat base of leavened wheat-based dough topped with onions,<mask>, and often various other<mask></s>'},\n",
       "  {'score': 0.05367416888475418,\n",
       "   'token': 25038,\n",
       "   'token_str': ' mushrooms',\n",
       "   'sequence': '<s>Pizza is a dish of Italian origin consisting of a usually round, flat base of leavened wheat-based dough topped with mushrooms,<mask>, and often various other<mask></s>'}],\n",
       " [{'score': 0.1221897080540657,\n",
       "   'token': 7134,\n",
       "   'token_str': ' cheese',\n",
       "   'sequence': '<s>Pizza is a dish of Italian origin consisting of a usually round, flat base of leavened wheat-based dough topped with<mask>, cheese, and often various other<mask></s>'},\n",
       "  {'score': 0.0890280231833458,\n",
       "   'token': 18553,\n",
       "   'token_str': ' tomatoes',\n",
       "   'sequence': '<s>Pizza is a dish of Italian origin consisting of a usually round, flat base of leavened wheat-based dough topped with<mask>, tomatoes, and often various other<mask></s>'},\n",
       "  {'score': 0.0835215374827385,\n",
       "   'token': 20406,\n",
       "   'token_str': ' tomato',\n",
       "   'sequence': '<s>Pizza is a dish of Italian origin consisting of a usually round, flat base of leavened wheat-based dough topped with<mask>, tomato, and often various other<mask></s>'},\n",
       "  {'score': 0.05713518336415291,\n",
       "   'token': 21568,\n",
       "   'token_str': ' onions',\n",
       "   'sequence': '<s>Pizza is a dish of Italian origin consisting of a usually round, flat base of leavened wheat-based dough topped with<mask>, onions, and often various other<mask></s>'},\n",
       "  {'score': 0.054601192474365234,\n",
       "   'token': 32394,\n",
       "   'token_str': ' basil',\n",
       "   'sequence': '<s>Pizza is a dish of Italian origin consisting of a usually round, flat base of leavened wheat-based dough topped with<mask>, basil, and often various other<mask></s>'}],\n",
       " [{'score': 0.27507585287094116,\n",
       "   'token': 27235,\n",
       "   'token_str': ' spices',\n",
       "   'sequence': '<s>Pizza is a dish of Italian origin consisting of a usually round, flat base of leavened wheat-based dough topped with<mask>,<mask>, and often various other spices</s>'},\n",
       "  {'score': 0.1856328248977661,\n",
       "   'token': 7075,\n",
       "   'token_str': ' ingredients',\n",
       "   'sequence': '<s>Pizza is a dish of Italian origin consisting of a usually round, flat base of leavened wheat-based dough topped with<mask>,<mask>, and often various other ingredients</s>'},\n",
       "  {'score': 0.13744372129440308,\n",
       "   'token': 8942,\n",
       "   'token_str': ' vegetables',\n",
       "   'sequence': '<s>Pizza is a dish of Italian origin consisting of a usually round, flat base of leavened wheat-based dough topped with<mask>,<mask>, and often various other vegetables</s>'},\n",
       "  {'score': 0.07349959015846252,\n",
       "   'token': 34362,\n",
       "   'token_str': ' sauces',\n",
       "   'sequence': '<s>Pizza is a dish of Italian origin consisting of a usually round, flat base of leavened wheat-based dough topped with<mask>,<mask>, and often various other sauces</s>'},\n",
       "  {'score': 0.06903199106454849,\n",
       "   'token': 24766,\n",
       "   'token_str': ' herbs',\n",
       "   'sequence': '<s>Pizza is a dish of Italian origin consisting of a usually round, flat base of leavened wheat-based dough topped with<mask>,<mask>, and often various other herbs</s>'}]]"
      ]
     },
     "execution_count": 3,
     "metadata": {},
     "output_type": "execute_result"
    }
   ],
   "source": [
    "nlp('Pizza is a dish of Italian origin consisting of a usually round, flat base of leavened wheat-based dough topped with <mask>, <mask>, and often various other <mask>')"
   ]
  },
  {
   "cell_type": "markdown",
   "metadata": {},
   "source": [
    "---\n",
    "\n",
    "# nlpaug"
   ]
  },
  {
   "cell_type": "code",
   "execution_count": null,
   "metadata": {},
   "outputs": [],
   "source": [
    "!pip install numpy requests nlpaug"
   ]
  },
  {
   "cell_type": "code",
   "execution_count": 4,
   "metadata": {},
   "outputs": [],
   "source": [
    "!pip install torch>=1.6.0 transformers>=4.11.3 sentencepiece"
   ]
  },
  {
   "cell_type": "code",
   "execution_count": 5,
   "metadata": {},
   "outputs": [],
   "source": [
    "!pip install nltk>=3.4.5"
   ]
  },
  {
   "cell_type": "code",
   "execution_count": 7,
   "metadata": {},
   "outputs": [],
   "source": [
    "import os\n",
    "os.environ[\"MODEL_DIR\"] = '../model'"
   ]
  },
  {
   "cell_type": "code",
   "execution_count": 12,
   "metadata": {},
   "outputs": [],
   "source": [
    "model_dir = os.environ[\"MODEL_DIR\"]"
   ]
  },
  {
   "cell_type": "code",
   "execution_count": 19,
   "metadata": {},
   "outputs": [
    {
     "name": "stderr",
     "output_type": "stream",
     "text": [
      "[nltk_data] Downloading package wordnet to /root/nltk_data...\n",
      "[nltk_data]   Package wordnet is already up-to-date!\n",
      "[nltk_data] Downloading package omw-1.4 to /root/nltk_data...\n"
     ]
    },
    {
     "data": {
      "text/plain": [
       "True"
      ]
     },
     "execution_count": 19,
     "metadata": {},
     "output_type": "execute_result"
    }
   ],
   "source": [
    "import nlpaug.augmenter.char as nac\n",
    "import nlpaug.augmenter.word as naw\n",
    "import nlpaug.augmenter.sentence as nas\n",
    "import nlpaug.flow as nafc\n",
    "\n",
    "from nlpaug.util import Action\n",
    "\n",
    "import nltk\n",
    "nltk.download('wordnet')\n",
    "nltk.download('omw-1.4')"
   ]
  },
  {
   "cell_type": "markdown",
   "metadata": {},
   "source": [
    "# Character Augmenter\n",
    "\n",
    "Augmenting data in character level. Possible scenarios include image to text and chatbot. During recognizing text from image, we need to optical character recognition (OCR) model to achieve it but OCR introduces some errors such as recognizing \"o\" and \"0\". `OCRAug` simulate these errors to perform the data augmentation. For chatbot, we still have typo even though most of application comes with word correction. Therefore, `KeyboardAug` is introduced to simulate this kind of errors.\n",
    "\n",
    "## OCR Augmenter\n",
    "### Substitute character by pre-defined OCR error"
   ]
  },
  {
   "cell_type": "code",
   "execution_count": 20,
   "metadata": {},
   "outputs": [
    {
     "name": "stdout",
     "output_type": "stream",
     "text": [
      "Original:\n",
      "Pizza is a dish of Italian origin consisting of a usually round, flat base of leavened wheat-based dough topped with tomatoes, cheese, and often various other ingredients (such as various types of sausage, anchovies, mushrooms, onions, olives, vegetables, meat, ham, etc.), which is then baked at a high temperature, traditionally in a wood-fired oven.\n",
      "\n",
      "Augmented Texts:\n",
      "['Pizza is a dish 0f Italian origin consisting of a usually round, flat 6a8e of leavened wheat - based dough topped with tomatoes, cheese, and uften various other ingredients (such as various types of sausage, anchovies, mushrooms, onions, olives, vegetables, meat, ham, etc. ), which is then baked at a hi9h temperature, traditionally in a wood - fired oven.', 'Pizza is a dish of Italian origin consisting uf a osoa1ly koond, flat base of leavened wheat - based dough topped with tomatoes, cheese, and often various other ingredients (such as various types of sausage, anchovies, mushrooms, onions, olives, vegetables, meat, ham, etc. ), which is then baked at a high temperature, traditionally in a wood - fired oven.', 'Pizza is a dish of Italian origin consisting of a osoa1ly round, f1at base of leavened wheat - based dough topped with tomatoes, cheese, and often various other ingredients (such as various types of sausage, anchovies, mushrooms, onions, olives, ve9eta61es, meat, ham, etc. ), which is then baked at a high tempekatoke, traditionally in a w00d - fired oven.']\n"
     ]
    }
   ],
   "source": [
    "aug = nac.OcrAug()\n",
    "augmented_texts = aug.augment(text, n=3)\n",
    "print(\"Original:\")\n",
    "print(text)\n",
    "print(\"\\nAugmented Texts:\")\n",
    "print(augmented_texts)"
   ]
  },
  {
   "cell_type": "markdown",
   "metadata": {},
   "source": [
    "## Keyboard Augmenter\n",
    "### Substitute character by keyboard distance"
   ]
  },
  {
   "cell_type": "code",
   "execution_count": 34,
   "metadata": {},
   "outputs": [
    {
     "name": "stdout",
     "output_type": "stream",
     "text": [
      "Original:\n",
      "Pizza is a dish of Italian origin consisting of a usually round, flat base of leavened wheat-based dough topped with tomatoes, cheese, and often various other ingredients (such as various types of sausage, anchovies, mushrooms, onions, olives, vegetables, meat, ham, etc.), which is then baked at a high temperature, traditionally in a wood-fired oven.\n",
      "\n",
      "Augmented Text:\n",
      "Pizza is a diCh of Italian origin consisting of a usually round, flat base of ldavrned wheat - based dough toppex with tomatoes, cheese, and often various other ingredients (such as various typWs of sQusags, anchlcies, ,ushrLoms, onions, olivWs, vegetables, meat, ham, etc. ), which is then baked at a high tW<oerature, traditionally in a wood - fir#d oven.\n"
     ]
    }
   ],
   "source": [
    "aug = nac.KeyboardAug()\n",
    "augmented_text = aug.augment(text)\n",
    "print(\"Original:\")\n",
    "print(text)\n",
    "print(\"\\nAugmented Text:\")\n",
    "print(augmented_text)"
   ]
  },
  {
   "cell_type": "markdown",
   "metadata": {},
   "source": [
    "## Random Augmenter\n",
    "### Insert character randomly"
   ]
  },
  {
   "cell_type": "code",
   "execution_count": 32,
   "metadata": {},
   "outputs": [
    {
     "name": "stdout",
     "output_type": "stream",
     "text": [
      "Original:\n",
      "The quick brown fox jumped over the lazy dog\n",
      "\n",
      "Augmented Text:\n",
      "The quXick brown fox jumped over the laozy dog\n"
     ]
    }
   ],
   "source": [
    "aug = nac.RandomCharAug(action=\"insert\")\n",
    "augmented_text = aug.augment(text)\n",
    "print(\"Original:\")\n",
    "print(text)\n",
    "print(\"\\nAugmented Text:\")\n",
    "print(augmented_text)"
   ]
  },
  {
   "cell_type": "markdown",
   "metadata": {},
   "source": [
    "### Substitute character randomly"
   ]
  },
  {
   "cell_type": "code",
   "execution_count": 23,
   "metadata": {},
   "outputs": [
    {
     "name": "stdout",
     "output_type": "stream",
     "text": [
      "Original:\n",
      "Pizza is a dish of Italian origin consisting of a usually round, flat base of leavened wheat-based dough topped with tomatoes, cheese, and often various other ingredients (such as various types of sausage, anchovies, mushrooms, onions, olives, vegetables, meat, ham, etc.), which is then baked at a high temperature, traditionally in a wood-fired oven.\n",
      "\n",
      "Augmented Text:\n",
      "['Pizza is a dish of Italian orcgbn consisting of a usually r0u&d, flat E+se of leavened wherk - bas%d dough topped with tomatoes, cheese, and often various other ingredients (such as ve(ioup types of sausage, ancX4eies, mus_rFom_, onions, olEEes, vegetables, meat, ham, etc. ), which is then baFe% at a high temperature, traditionally in a wood - fired oven.']\n"
     ]
    }
   ],
   "source": [
    "aug = nac.RandomCharAug(action=\"substitute\")\n",
    "augmented_text = aug.augment(text)\n",
    "print(\"Original:\")\n",
    "print(text)\n",
    "print(\"\\nAugmented Text:\")\n",
    "print(augmented_text)"
   ]
  },
  {
   "cell_type": "markdown",
   "metadata": {},
   "source": [
    "### Swap character randomly"
   ]
  },
  {
   "cell_type": "code",
   "execution_count": 24,
   "metadata": {},
   "outputs": [
    {
     "name": "stdout",
     "output_type": "stream",
     "text": [
      "Original:\n",
      "Pizza is a dish of Italian origin consisting of a usually round, flat base of leavened wheat-based dough topped with tomatoes, cheese, and often various other ingredients (such as various types of sausage, anchovies, mushrooms, onions, olives, vegetables, meat, ham, etc.), which is then baked at a high temperature, traditionally in a wood-fired oven.\n",
      "\n",
      "Augmented Text:\n",
      "['Pizza is a dish of Italian origin ocnsisitgn of a usually round, flat abes of leavened wheat - sbaed oduhg topped with tomatoes, cheese, and foetn various other ingredients (such as various tpyse of sausage, anchovies, mushrooms, onions, olives, egvetbales, meat, ham, etc. ), whhic is then baked at a high temperature, tarditoinlayl in a wood - fired vone.']\n"
     ]
    }
   ],
   "source": [
    "aug = nac.RandomCharAug(action=\"swap\")\n",
    "augmented_text = aug.augment(text)\n",
    "print(\"Original:\")\n",
    "print(text)\n",
    "print(\"\\nAugmented Text:\")\n",
    "print(augmented_text)"
   ]
  },
  {
   "cell_type": "markdown",
   "metadata": {},
   "source": [
    "### Delete character randomly"
   ]
  },
  {
   "cell_type": "code",
   "execution_count": 26,
   "metadata": {},
   "outputs": [
    {
     "name": "stdout",
     "output_type": "stream",
     "text": [
      "Original:\n",
      "Pizza is a dish of Italian origin consisting of a usually round, flat base of leavened wheat-based dough topped with tomatoes, cheese, and often various other ingredients (such as various types of sausage, anchovies, mushrooms, onions, olives, vegetables, meat, ham, etc.), which is then baked at a high temperature, traditionally in a wood-fired oven.\n",
      "\n",
      "Augmented Text:\n",
      "['zza is a dish of Italian origin consisting of a suly round, flat ba of leavened wheat - based dough topped with tomatoes, cheese, and oft various other ingredients (uh as vaus types of sausage, anchovies, mushrooms, onions, oliv, vegeaes, at, ham, etc. ), which is then baked at a high erature, traditionally in a wood - fired oven.']\n"
     ]
    }
   ],
   "source": [
    "aug = nac.RandomCharAug(action=\"delete\")\n",
    "augmented_text = aug.augment(text)\n",
    "print(\"Original:\")\n",
    "print(text)\n",
    "print(\"\\nAugmented Text:\")\n",
    "print(augmented_text)"
   ]
  },
  {
   "cell_type": "markdown",
   "metadata": {},
   "source": [
    "# Word Augmenter\n",
    "\n",
    "Besides character augmentation, word level is important as well. We make use of word2vec (Mikolov et al., 2013), GloVe (Pennington et al., 2014), fasttext (Joulin et al., 2016), BERT(Devlin et al., 2018) and wordnet to insert and substitute similar word. `Word2vecAug`,  `GloVeAug` and `FasttextAug` use word embeddings to find most similar group of words to replace original word. On the other hand, `BertAug` use language models to predict possible target word. `WordNetAug` use statistics way to find the similar group of words.\n",
    "\n",
    "## Spelling Augmenter\n",
    "### Substitute word by spelling mistake words dictionary"
   ]
  },
  {
   "cell_type": "code",
   "execution_count": 28,
   "metadata": {},
   "outputs": [
    {
     "name": "stdout",
     "output_type": "stream",
     "text": [
      "Original:\n",
      "Pizza is a dish of Italian origin consisting of a usually round, flat base of leavened wheat-based dough topped with tomatoes, cheese, and often various other ingredients (such as various types of sausage, anchovies, mushrooms, onions, olives, vegetables, meat, ham, etc.), which is then baked at a high temperature, traditionally in a wood-fired oven.\n",
      "\n",
      "Augmented Texts:\n",
      "['Pizza wis a dish of Italyan origin consisting of a usually round, flat based of leavened wheat - basead dough topped witc tomatoes, cheese, and often variuos other ingredients (such is varoius types of sausage, anchovies, mushrooms, onions, olives, vegetables, meat, ham, ecc. ), which is then baked at a high temperature, traditionally in an wood - fired oven.', \"Pizza is a dish of Italin origin consisting oof a usually rond, flat base of leavened wheat - basead dough topped with tomatoes, cheese, and ofthen various other ingredients (such as varios types lf sausage, anchovies, mushrooms, union, olives, vegetables, meat, ham, etc. ), which isn't ten baked at a high temperature, traditionally in a wood - fired oven.\", 'Pizza e a dish of Italian origin consisting of a usually roung, flat base of leavened wheat - based dough topped with tomatoes, cheese, and often variuos other ingredients (surch as varies types ol sausage, anchovies, mushrooms, onions, olives, vegetables, meats, ham, etc. ), which is then baked at a high temperature, traditionally ni ein wood - fried oven.']\n"
     ]
    }
   ],
   "source": [
    "aug = naw.SpellingAug()\n",
    "augmented_texts = aug.augment(text, n=3)\n",
    "print(\"Original:\")\n",
    "print(text)\n",
    "print(\"\\nAugmented Texts:\")\n",
    "print(augmented_texts)"
   ]
  },
  {
   "cell_type": "markdown",
   "metadata": {},
   "source": [
    "## Synonym Augmenter\n",
    "### Substitute word by WordNet's synonym"
   ]
  },
  {
   "cell_type": "code",
   "execution_count": 24,
   "metadata": {},
   "outputs": [
    {
     "name": "stdout",
     "output_type": "stream",
     "text": [
      "Original:\n",
      "Pizza is a dish of Italian origin consisting of a usually round, flat base of leavened wheat-based dough topped with tomatoes, cheese, and often various other ingredients (such as various types of sausage, anchovies, mushrooms, onions, olives, vegetables, meat, ham, etc.), which is then baked at a high temperature, traditionally in a wood-fired oven.\n",
      "\n",
      "Augmented Text:\n",
      "Pizza is a bag of Italian origin consisting of a ordinarily round, flat base of leavened wheat - based dough topped with love apple, cheese, and often various other ingredients (such as various types of sausage, anchovy, mushrooms, onions, olives, vegetable, kernel, ham, etc. ), which is and so baked at a high temperature, traditionally in a wood - fired oven.\n"
     ]
    }
   ],
   "source": [
    "aug = naw.SynonymAug(aug_src='wordnet')\n",
    "augmented_text = aug.augment(text)\n",
    "print(\"Original:\")\n",
    "print(text)\n",
    "print(\"\\nAugmented Text:\")\n",
    "print(augmented_text)"
   ]
  },
  {
   "cell_type": "markdown",
   "metadata": {},
   "source": [
    "## Antonym Augmenter\n",
    "### Substitute word by antonym"
   ]
  },
  {
   "cell_type": "code",
   "execution_count": 26,
   "metadata": {},
   "outputs": [
    {
     "name": "stdout",
     "output_type": "stream",
     "text": [
      "Original:\n",
      "Pizza is a dish of Italian origin consisting of a usually round, flat base of leavened wheat-based dough topped with tomatoes, cheese, and often various other ingredients (such as various types of sausage, anchovies, mushrooms, onions, olives, vegetables, meat, ham, etc.), which is then baked at a high temperature, traditionally in a wood-fired oven.\n",
      "\n",
      "Augmented Text:\n",
      "Pizza differ a dish of Italian origin consisting of a remarkably round, natural base of unleavened wheat - based dough topped with tomatoes, cheese, and rarely various same ingredients (such as various types of sausage, anchovies, mushrooms, onions, olives, vegetables, meat, ham, etc. ), which differ then baked at a low temperature, traditionally in a wood - hire oven.\n"
     ]
    }
   ],
   "source": [
    "aug = naw.AntonymAug()\n",
    "augmented_text = aug.augment(text)\n",
    "print(\"Original:\")\n",
    "print(text)\n",
    "print(\"\\nAugmented Text:\")\n",
    "print(augmented_text)"
   ]
  },
  {
   "cell_type": "markdown",
   "metadata": {},
   "source": [
    "## Random Word Augmenter\n",
    "### Swap word randomly"
   ]
  },
  {
   "cell_type": "code",
   "execution_count": 35,
   "metadata": {},
   "outputs": [
    {
     "name": "stdout",
     "output_type": "stream",
     "text": [
      "Original:\n",
      "Pizza is a dish of Italian origin consisting of a usually round, flat base of leavened wheat-based dough topped with tomatoes, cheese, and often various other ingredients (such as various types of sausage, anchovies, mushrooms, onions, olives, vegetables, meat, ham, etc.), which is then baked at a high temperature, traditionally in a wood-fired oven.\n",
      "\n",
      "Augmented Text:\n",
      "Is pizza a dish Italian of origin consisting of a usually round, flat base of wheat leavened - based dough topped, with tomatoes cheese, and often various other (ingredients such various as types of sausage, anchovies, mushrooms, onions, olives, vegetables, meat ham, , etc. ), is which baked then at a high temperature, traditionally in a wood - fired oven.\n"
     ]
    }
   ],
   "source": [
    "aug = naw.RandomWordAug(action=\"swap\")\n",
    "augmented_text = aug.augment(text)\n",
    "print(\"Original:\")\n",
    "print(text)\n",
    "print(\"\\nAugmented Text:\")\n",
    "print(augmented_text)"
   ]
  },
  {
   "cell_type": "markdown",
   "metadata": {},
   "source": [
    "### Delete word randomly"
   ]
  },
  {
   "cell_type": "code",
   "execution_count": 36,
   "metadata": {},
   "outputs": [
    {
     "name": "stdout",
     "output_type": "stream",
     "text": [
      "Original:\n",
      "Pizza is a dish of Italian origin consisting of a usually round, flat base of leavened wheat-based dough topped with tomatoes, cheese, and often various other ingredients (such as various types of sausage, anchovies, mushrooms, onions, olives, vegetables, meat, ham, etc.), which is then baked at a high temperature, traditionally in a wood-fired oven.\n",
      "\n",
      "Augmented Text:\n",
      "Pizza is a dish of Italian origin consisting a usually, flat base of leavened wheat - dough with tomatoes, cheese, and often various ingredients (such various of sausage, , mushrooms, onions, olives, , meat, , etc. ), which is then baked at a high temperature, traditionally in a wood - fired oven.\n"
     ]
    }
   ],
   "source": [
    "aug = naw.RandomWordAug()\n",
    "augmented_text = aug.augment(text)\n",
    "print(\"Original:\")\n",
    "print(text)\n",
    "print(\"\\nAugmented Text:\")\n",
    "print(augmented_text)"
   ]
  },
  {
   "cell_type": "markdown",
   "metadata": {},
   "source": [
    "### Delete a set of contunous word will be removed randomly"
   ]
  },
  {
   "cell_type": "code",
   "execution_count": 39,
   "metadata": {},
   "outputs": [
    {
     "name": "stdout",
     "output_type": "stream",
     "text": [
      "Original:\n",
      "Pizza is a dish of Italian origin consisting of a usually round, flat base of leavened wheat-based dough topped with tomatoes, cheese, and often various other ingredients (such as various types of sausage, anchovies, mushrooms, onions, olives, vegetables, meat, ham, etc.), which is then baked at a high temperature, traditionally in a wood-fired oven.\n",
      "\n",
      "Augmented Text:\n",
      "Pizza is a dish of Italian origin consisting of a usually round, flat base of leavened wheat - based dough topped with tomatoes, cheese, and often various other ingredients (such as various types of sausage, anchovies, mushrooms, onions, olives, vegetables, meat, ham a high temperature, traditionally in a wood - fired oven.\n"
     ]
    }
   ],
   "source": [
    "aug = naw.RandomWordAug(action='crop')\n",
    "augmented_text = aug.augment(text)\n",
    "print(\"Original:\")\n",
    "print(text)\n",
    "print(\"\\nAugmented Text:\")\n",
    "print(augmented_text)"
   ]
  },
  {
   "cell_type": "markdown",
   "metadata": {},
   "source": [
    "---"
   ]
  },
  {
   "cell_type": "markdown",
   "metadata": {},
   "source": [
    "# TextAttack 🐙"
   ]
  },
  {
   "cell_type": "code",
   "execution_count": null,
   "metadata": {},
   "outputs": [],
   "source": [
    "!pip install textattack --upgrade"
   ]
  },
  {
   "cell_type": "code",
   "execution_count": null,
   "metadata": {},
   "outputs": [],
   "source": [
    "!pip install tensorflow-text"
   ]
  },
  {
   "cell_type": "markdown",
   "metadata": {},
   "source": [
    "## WordNetAugmenter\n",
    "Wordnet augments text by replacing words with synonyms provided by WordNet."
   ]
  },
  {
   "cell_type": "code",
   "execution_count": 6,
   "metadata": {},
   "outputs": [
    {
     "name": "stderr",
     "output_type": "stream",
     "text": [
      "[nltk_data] Downloading package omw-1.4 to /root/nltk_data...\n",
      "[nltk_data]   Package omw-1.4 is already up-to-date!\n"
     ]
    },
    {
     "data": {
      "text/plain": [
       "['Pizza is a dish of Italian origin consisting of a usually rhythm, matte meanspirited of leavened wheat-based dough topped with tomatoes, cheese, and often various other ingredients (such as respective types of sausage, anchovies, mushrooms, onions, olives, vegetables, meat, ham, etc.), which is then baked at a gamy temperature, traditionally in a wood-fired oven.']"
      ]
     },
     "execution_count": 6,
     "metadata": {},
     "output_type": "execute_result"
    }
   ],
   "source": [
    "import textattack\n",
    "from textattack.augmentation import WordNetAugmenter\n",
    "\n",
    "wordnet_aug = WordNetAugmenter()\n",
    "wordnet_aug.augment(text)"
   ]
  },
  {
   "cell_type": "markdown",
   "metadata": {},
   "source": [
    "## EmbeddingAugmenter \n",
    "Embedding augments text by replacing words with neighbors in the counter-fitted embedding space, with a constraint to ensure their cosine similarity is at least 0.8."
   ]
  },
  {
   "cell_type": "code",
   "execution_count": null,
   "metadata": {},
   "outputs": [],
   "source": [
    "from textattack.augmentation import EmbeddingAugmenter\n",
    "embed_aug = EmbeddingAugmenter()\n",
    "embed_aug.augment(text)"
   ]
  },
  {
   "cell_type": "markdown",
   "metadata": {},
   "source": [
    "## CharSwapAugmenter \n",
    "It augments text by substituting, deleting, inserting, and swapping adjacent characters"
   ]
  },
  {
   "cell_type": "code",
   "execution_count": 3,
   "metadata": {},
   "outputs": [
    {
     "data": {
      "text/plain": [
       "['iPzza is a dish of Italian origin consisting of a usually round, flat gbase of leavened heat-based dough topped with tomatoes, cheese, and often various other ingredients (such as variou types of sausage, anchovies, mushrooms, onions, olives, vegetables, meat, ham, etc.), which is then baked at a high temperaeture, traditionally in a wood-fired oven.']"
      ]
     },
     "execution_count": 3,
     "metadata": {},
     "output_type": "execute_result"
    }
   ],
   "source": [
    "from textattack.augmentation import CharSwapAugmenter\n",
    "charswap_aug = CharSwapAugmenter()\n",
    "charswap_aug.augment(text)"
   ]
  },
  {
   "cell_type": "code",
   "execution_count": 6,
   "metadata": {},
   "outputs": [],
   "source": [
    "# import transformations, contraints, and the Augmenter\n",
    "from textattack.transformations import WordSwapRandomCharacterDeletion\n",
    "from textattack.transformations import WordSwapQWERTY\n",
    "from textattack.transformations import CompositeTransformation\n",
    "\n",
    "from textattack.constraints.pre_transformation import RepeatModification\n",
    "from textattack.constraints.pre_transformation import StopwordModification\n",
    "\n",
    "from textattack.augmentation import Augmenter"
   ]
  },
  {
   "cell_type": "code",
   "execution_count": 17,
   "metadata": {},
   "outputs": [
    {
     "data": {
      "text/plain": [
       "['Piza is a dih of Itallan origin conslsting of a usualky roun.',\n",
       " 'Piza is a dish of Italiah origi consising of a sually roun.',\n",
       " 'Pizz is a fish of Ialian ofigin cnsisting of a usjally round.',\n",
       " 'Pizza is a xish of Ialian otigin conisting of a ushally rounx.',\n",
       " 'Pizza is a xish of Itlian oriin fonsisting of a usuaily roun.',\n",
       " 'Plzza is a didh of Itakian origin consistiny of a sually rpund.',\n",
       " 'Puzza is a dsh of Itaian oigin consistkng of a usualiy round.',\n",
       " 'Pzza is a djsh of Italiqn oriin consistibg of a usully round.',\n",
       " 'izza is a dish of Italin orign conssting of a usully roun.',\n",
       " 'izza is a fish of Itwlian oritin consisting of a jsually roud.']"
      ]
     },
     "execution_count": 17,
     "metadata": {},
     "output_type": "execute_result"
    }
   ],
   "source": [
    "\n",
    "# Set up transformation using CompositeTransformation()\n",
    "transformation = CompositeTransformation([WordSwapRandomCharacterDeletion(), WordSwapQWERTY()])\n",
    "# Set up constraints\n",
    "constraints = [RepeatModification(), StopwordModification()]\n",
    "# Create augmenter with specified parameters\n",
    "augmenter = Augmenter(transformation=transformation, constraints=constraints, pct_words_to_swap=0.5, transformations_per_example=10)\n",
    "s = 'Pizza is a dish of Italian origin consisting of a usually round.'\n",
    "# Augment!\n",
    "augmenter.augment(s)"
   ]
  },
  {
   "cell_type": "markdown",
   "metadata": {},
   "source": [
    "## DeletionAugmenter\n",
    "This one augments the text by deleting some parts of the text to make new text."
   ]
  },
  {
   "cell_type": "code",
   "execution_count": 3,
   "metadata": {},
   "outputs": [
    {
     "data": {
      "text/plain": [
       "['Pizza is a dish of Italian origin consisting of a usually round, flat base of wheat-based dough topped tomatoes, cheese, and often various other ingredients (such as various types of sausage, anchovies, mushrooms, onions, olives,,, ham,.), which is then baked at a high temperature, traditionally in a wood-fired oven.']"
      ]
     },
     "execution_count": 3,
     "metadata": {},
     "output_type": "execute_result"
    }
   ],
   "source": [
    "from textattack.augmentation import DeletionAugmenter\n",
    "\n",
    "deletion_aug = DeletionAugmenter()\n",
    "deletion_aug.augment(text)"
   ]
  },
  {
   "cell_type": "markdown",
   "metadata": {},
   "source": [
    "## EasyDataAugmenter technique\n",
    "\n",
    "This augments the text with a combination of different methods, such as:\n",
    "- Randomly swapping the positions of the words in the sentence.\n",
    "- Randomly removing words from the sentence.\n",
    "- Randomly inserting a random synonym of a random word at a random location.\n",
    "- Randomly replacing words with their synonyms."
   ]
  },
  {
   "cell_type": "code",
   "execution_count": 4,
   "metadata": {},
   "outputs": [
    {
     "name": "stderr",
     "output_type": "stream",
     "text": [
      "[nltk_data] Downloading package omw-1.4 to /root/nltk_data...\n",
      "[nltk_data]   Package omw-1.4 is already up-to-date!\n"
     ]
    },
    {
     "data": {
      "text/plain": [
       "['Pizza is a bag of Italian origin consisting of a usually around, 2-dimensional alkali of leavened wheat-based dough topped with tomatoes, cheese, and often various other ingredients (such as various types of sausage, anchovies, mushrooms, onions, olives, veg, meat, ham, etc.), which is then baked at a high temperature, traditionally in a wood-fired oven.',\n",
       " 'Pizza is a dish of Italian origin consisting of a usually round, flat at base of leavened wheat-based dough topped with tomatoes, cheese, and often various other ingredients (such as various types of sausage, anchovies, mushrooms, At onions, olives, vegetables, meat, ham, etc.), which live is then baked at a high temperature, traditionally in a wood-fired oven.',\n",
       " 'is a dish of Italian origin consisting of a usually round, flat base of wheat-based dough topped with tomatoes, cheese, and often various other ingredients ( as various types of sausage,, mushrooms, onions, olives, vegetables,, ham, etc.), which is then baked at a high temperature, traditionally in a wood-fired oven.',\n",
       " 'Pizza is a dish of Italian origin consisting of a usually round, flat is of leavened wheat-based dough topped with tomatoes, cheese, and often various other ham (such as various types of sausage, anchovies, mushrooms, onions, olives, vegetables, meat, ingredients, etc.), which base then baked at a high in, traditionally temperature a wood-fired oven.']"
      ]
     },
     "execution_count": 4,
     "metadata": {},
     "output_type": "execute_result"
    }
   ],
   "source": [
    "from textattack.augmentation import EasyDataAugmenter\n",
    "\n",
    "eda_aug = EasyDataAugmenter()\n",
    "eda_aug.augment(text)"
   ]
  },
  {
   "cell_type": "markdown",
   "metadata": {},
   "source": [
    "---\n",
    "\n",
    "# Back Translation with MarianMT from HuggingFace\n",
    "\n",
    "> MarianMTModel requires the PyTorch library"
   ]
  },
  {
   "cell_type": "code",
   "execution_count": null,
   "metadata": {},
   "outputs": [],
   "source": [
    "!pip install transformers==4.1.1 sentencepiece==0.1.94\n",
    "!pip install mosestokenizer==1.1.0"
   ]
  },
  {
   "cell_type": "code",
   "execution_count": 4,
   "metadata": {},
   "outputs": [],
   "source": [
    "from transformers import MarianMTModel, MarianTokenizer"
   ]
  },
  {
   "cell_type": "markdown",
   "metadata": {},
   "source": [
    "Then, we can create a initialize the model that can translate from English to Romance languages. This is a single model that can translate to any of the romance languages()"
   ]
  },
  {
   "cell_type": "code",
   "execution_count": 5,
   "metadata": {},
   "outputs": [
    {
     "data": {
      "application/vnd.jupyter.widget-view+json": {
       "model_id": "0b038c32f02a4832ba81881661b7749e",
       "version_major": 2,
       "version_minor": 0
      },
      "text/plain": [
       "Downloading:   0%|          | 0.00/1.37k [00:00<?, ?B/s]"
      ]
     },
     "metadata": {},
     "output_type": "display_data"
    },
    {
     "data": {
      "application/vnd.jupyter.widget-view+json": {
       "model_id": "6474e46e272f43ae90d8385b896e317f",
       "version_major": 2,
       "version_minor": 0
      },
      "text/plain": [
       "Downloading:   0%|          | 0.00/298M [00:00<?, ?B/s]"
      ]
     },
     "metadata": {},
     "output_type": "display_data"
    }
   ],
   "source": [
    "target_model_name = 'Helsinki-NLP/opus-mt-en-ROMANCE'\n",
    "target_tokenizer = MarianTokenizer.from_pretrained(target_model_name)\n",
    "target_model = MarianMTModel.from_pretrained(target_model_name)"
   ]
  },
  {
   "cell_type": "markdown",
   "metadata": {},
   "source": [
    "Similarly, we can initialize models that can translate Romance languages to English."
   ]
  },
  {
   "cell_type": "code",
   "execution_count": 6,
   "metadata": {},
   "outputs": [
    {
     "data": {
      "application/vnd.jupyter.widget-view+json": {
       "model_id": "5b86cba7265b40fe8a9fe7ffbb05c109",
       "version_major": 2,
       "version_minor": 0
      },
      "text/plain": [
       "Downloading:   0%|          | 0.00/781k [00:00<?, ?B/s]"
      ]
     },
     "metadata": {},
     "output_type": "display_data"
    },
    {
     "data": {
      "application/vnd.jupyter.widget-view+json": {
       "model_id": "aa81a55ea7894404b415e342130d002e",
       "version_major": 2,
       "version_minor": 0
      },
      "text/plain": [
       "Downloading:   0%|          | 0.00/761k [00:00<?, ?B/s]"
      ]
     },
     "metadata": {},
     "output_type": "display_data"
    },
    {
     "data": {
      "application/vnd.jupyter.widget-view+json": {
       "model_id": "daf7dddc3e874014ac54ba5419d9950b",
       "version_major": 2,
       "version_minor": 0
      },
      "text/plain": [
       "Downloading:   0%|          | 0.00/1.39M [00:00<?, ?B/s]"
      ]
     },
     "metadata": {},
     "output_type": "display_data"
    },
    {
     "data": {
      "application/vnd.jupyter.widget-view+json": {
       "model_id": "0f1e6cf9891c4a1e82ac5a3d59710fb4",
       "version_major": 2,
       "version_minor": 0
      },
      "text/plain": [
       "Downloading:   0%|          | 0.00/265 [00:00<?, ?B/s]"
      ]
     },
     "metadata": {},
     "output_type": "display_data"
    },
    {
     "data": {
      "application/vnd.jupyter.widget-view+json": {
       "model_id": "294af3b4708647b3bf9637f68e148b40",
       "version_major": 2,
       "version_minor": 0
      },
      "text/plain": [
       "Downloading:   0%|          | 0.00/1.33k [00:00<?, ?B/s]"
      ]
     },
     "metadata": {},
     "output_type": "display_data"
    },
    {
     "data": {
      "application/vnd.jupyter.widget-view+json": {
       "model_id": "c981917dfbdf4453aa1fa97891f94dec",
       "version_major": 2,
       "version_minor": 0
      },
      "text/plain": [
       "Downloading:   0%|          | 0.00/298M [00:00<?, ?B/s]"
      ]
     },
     "metadata": {},
     "output_type": "display_data"
    }
   ],
   "source": [
    "en_model_name = 'Helsinki-NLP/opus-mt-ROMANCE-en'\n",
    "en_tokenizer = MarianTokenizer.from_pretrained(en_model_name)\n",
    "en_model = MarianMTModel.from_pretrained(en_model_name)"
   ]
  },
  {
   "cell_type": "markdown",
   "metadata": {},
   "source": [
    "Next, we write a helper function to translate a batch of text given the machine translation model, tokenizer and the target romance language."
   ]
  },
  {
   "cell_type": "code",
   "execution_count": 7,
   "metadata": {},
   "outputs": [],
   "source": [
    "def translate(texts, model, tokenizer, language=\"fr\"):\n",
    "    # Prepare the text data into appropriate format for the model\n",
    "    template = lambda text: f\"{text}\" if language == \"en\" else f\">>{language}<< {text}\"\n",
    "    src_texts = [template(text) for text in texts]\n",
    "\n",
    "    # Tokenize the texts\n",
    "    encoded = tokenizer.prepare_seq2seq_batch(src_texts)\n",
    "    \n",
    "    # Generate translation using model\n",
    "    translated = model.generate(**encoded)\n",
    "\n",
    "    # Convert the generated tokens indices back into text\n",
    "    translated_texts = tokenizer.batch_decode(translated, skip_special_tokens=True)\n",
    "    \n",
    "    return translated_texts"
   ]
  },
  {
   "cell_type": "markdown",
   "metadata": {},
   "source": [
    "Next, we will prepare a function to use the above `translate()` function to perform back translation."
   ]
  },
  {
   "cell_type": "code",
   "execution_count": 8,
   "metadata": {},
   "outputs": [],
   "source": [
    "def back_translate(texts, source_lang=\"en\", target_lang=\"fr\"):\n",
    "    # Translate from source to target language\n",
    "    fr_texts = translate(texts, target_model, target_tokenizer, \n",
    "                         language=target_lang)\n",
    "\n",
    "    # Translate from target language back to source language\n",
    "    back_translated_texts = translate(fr_texts, en_model, en_tokenizer, \n",
    "                                      language=source_lang)\n",
    "    \n",
    "    return back_translated_texts"
   ]
  },
  {
   "cell_type": "markdown",
   "metadata": {},
   "source": [
    "Now, we can perform data augmentation using back-translation from English to Spanish on a list of sentences as shown below."
   ]
  },
  {
   "cell_type": "code",
   "execution_count": null,
   "metadata": {},
   "outputs": [],
   "source": [
    "en_texts = ['This is so cool', 'I hated the food', 'They were very helpful']\n",
    "\n",
    "aug_texts = back_translate(en_texts, source_lang=\"en\", target_lang=\"es\")\n",
    "print(aug_texts)"
   ]
  },
  {
   "cell_type": "markdown",
   "metadata": {},
   "source": [
    "---\n",
    "# AugLy\n",
    "\n",
    "- [GitHub - AugLy](https://github.com/facebookresearch/AugLy)\n",
    "- [AugLy’s documentation](https://augly.readthedocs.io/en/latest/index.html)"
   ]
  },
  {
   "cell_type": "code",
   "execution_count": null,
   "metadata": {},
   "outputs": [],
   "source": [
    "!pip install augly[text]"
   ]
  },
  {
   "cell_type": "code",
   "execution_count": 14,
   "metadata": {},
   "outputs": [
    {
     "data": {
      "text/plain": [
       "'Hello, world! How are you today?'"
      ]
     },
     "execution_count": 14,
     "metadata": {},
     "output_type": "execute_result"
    }
   ],
   "source": [
    "import augly.text as textaugs\n",
    "\n",
    "# Define input text\n",
    "input_text = \"Hello, world! How are you today?\"\n",
    "input_text"
   ]
  },
  {
   "cell_type": "code",
   "execution_count": 25,
   "metadata": {},
   "outputs": [
    {
     "name": "stdout",
     "output_type": "stream",
     "text": [
      "Pizza is a dish of Italizn origin consisying of a usally round, fat bzse of leavened w^heat-based dough topped with tomatoes, cheese, andd oftenly various other ingredients (such as avrious types of sausage, anchovies, ushrooms, onions, olives, vegitables, meta, ahm, ect.), which hs thn bak(d ast a yhigh temperature, traditionaly in a wood-fired ven.\n"
     ]
    }
   ],
   "source": [
    "# Now we can apply various augmentations!\n",
    "print(textaugs.simulate_typos(text))"
   ]
  },
  {
   "cell_type": "code",
   "execution_count": 27,
   "metadata": {},
   "outputs": [
    {
     "name": "stdout",
     "output_type": "stream",
     "text": [
      "He has two sisters, but he always wanted a brother\n"
     ]
    }
   ],
   "source": [
    "# You can evaluate the fairness of your model by swapping gender in text\n",
    "# inputs & evaluating the performance!\n",
    "gendered_text = \"She has two brothers, but she always wanted a sister\"\n",
    "aug = textaugs.SwapGenderedWords(aug_word_p=1.0)\n",
    "print(aug(gendered_text))"
   ]
  },
  {
   "cell_type": "code",
   "execution_count": 24,
   "metadata": {},
   "outputs": [
    {
     "name": "stdout",
     "output_type": "stream",
     "text": [
      "[\"Hello, world! How're you today?\"]\n"
     ]
    }
   ],
   "source": [
    "aug = textaugs.Contractions(aug_p=1.0)\n",
    "print(aug(input_text))"
   ]
  },
  {
   "cell_type": "code",
   "execution_count": 31,
   "metadata": {},
   "outputs": [
    {
     "name": "stdout",
     "output_type": "stream",
     "text": [
      "[\"Pizza- is a. dish? of I:talia,n ori,gin c;onsis-ting ,of a ...usual-ly ro-und, !flat .base ?of le!avene.d whe?at-ba!sed d,ough !toppe'd wit,h tom...atoes?, che-ese, ;and o.ften -vario:us ot.her i.ngred.ients? (suc'h as ;vario...us ty.pes o!f sau.sage,? anch!ovies., mus!hroom.s, on.ions,: oliv,es, v...egeta.bles,, meat!, ham,, etc?.), w!hich ,is th,en ba-ked a,t a h-igh t-emper,ature:, tra'ditio'nally... in a. wood.-fire!d ove...n.\"]\n"
     ]
    }
   ],
   "source": [
    "augmented_synonyms = textaugs.insert_punctuation_chars(\n",
    "    text,\n",
    "    granularity=\"all\",\n",
    "    cadence=5.0,\n",
    "    vary_chars=True,\n",
    ")\n",
    "\n",
    "print(augmented_synonyms)"
   ]
  },
  {
   "cell_type": "code",
   "execution_count": 33,
   "metadata": {},
   "outputs": [
    {
     "name": "stdout",
     "output_type": "stream",
     "text": [
      "['PIZZA IS a dish OF italian ORIGIN CONSISTING of A USUALLY Round, flat BASE of Leavened wheat-based Dough topped with tomatoes, Cheese, and Often Various OTHER ingredients (such As VARIOUS Types OF SAUSAGE, ANCHOVIES, MUSHROOMS, Onions, OLIVES, vegetables, Meat, Ham, Etc.), WHICH is THEN BAKED at A HIGH TEMPERATURE, Traditionally In a wood-fired Oven.']\n"
     ]
    }
   ],
   "source": [
    "print(textaugs.change_case(text))"
   ]
  },
  {
   "cell_type": "code",
   "execution_count": 37,
   "metadata": {},
   "outputs": [
    {
     "name": "stdout",
     "output_type": "stream",
     "text": [
      "['P\\x0ci\\x0cz\\x0cz\\x0ca\\x0c \\x0ci\\x0cs\\x0c \\x0ca\\x0c \\x0cd\\x0ci\\x0cs\\x0ch\\x0c \\x0co\\x0cf\\x0c \\x0cI\\x0ct\\x0ca\\x0cl\\x0ci\\x0ca\\x0cn\\x0c \\x0co\\x0cr\\x0ci\\x0cg\\x0ci\\x0cn\\x0c \\x0cc\\x0co\\x0cn\\x0cs\\x0ci\\x0cs\\x0ct\\x0ci\\x0cn\\x0cg\\x0c \\x0co\\x0cf\\x0c \\x0ca\\x0c \\x0cu\\x0cs\\x0cu\\x0ca\\x0cl\\x0cl\\x0cy\\x0c \\x0cr\\x0co\\x0cu\\x0cn\\x0cd\\x0c,\\x0c \\x0cf\\x0cl\\x0ca\\x0ct\\x0c \\x0cb\\x0ca\\x0cs\\x0ce\\x0c \\x0co\\x0cf\\x0c \\x0cl\\x0ce\\x0ca\\x0cv\\x0ce\\x0cn\\x0ce\\x0cd\\x0c \\x0cw\\x0ch\\x0ce\\x0ca\\x0ct\\x0c-\\x0cb\\x0ca\\x0cs\\x0ce\\x0cd\\x0c \\x0cd\\x0co\\x0cu\\x0cg\\x0ch\\x0c \\x0ct\\x0co\\x0cp\\x0cp\\x0ce\\x0cd\\x0c \\x0cw\\x0ci\\x0ct\\x0ch\\x0c \\x0ct\\x0co\\x0cm\\x0ca\\x0ct\\x0co\\x0ce\\x0cs\\x0c,\\x0c \\x0cc\\x0ch\\x0ce\\x0ce\\x0cs\\x0ce\\x0c,\\x0c \\x0ca\\x0cn\\x0cd\\x0c \\x0co\\x0cf\\x0ct\\x0ce\\x0cn\\x0c \\x0cv\\x0ca\\x0cr\\x0ci\\x0co\\x0cu\\x0cs\\x0c \\x0co\\x0ct\\x0ch\\x0ce\\x0cr\\x0c \\x0ci\\x0cn\\x0cg\\x0cr\\x0ce\\x0cd\\x0ci\\x0ce\\x0cn\\x0ct\\x0cs\\x0c \\x0c(\\x0cs\\x0cu\\x0cc\\x0ch\\x0c \\x0ca\\x0cs\\x0c \\x0cv\\x0ca\\x0cr\\x0ci\\x0co\\x0cu\\x0cs\\x0c \\x0ct\\x0cy\\x0cp\\x0ce\\x0cs\\x0c \\x0co\\x0cf\\x0c \\x0cs\\x0ca\\x0cu\\x0cs\\x0ca\\x0cg\\x0ce\\x0c,\\x0c \\x0ca\\x0cn\\x0cc\\x0ch\\x0co\\x0cv\\x0ci\\x0ce\\x0cs\\x0c,\\x0c \\x0cm\\x0cu\\x0cs\\x0ch\\x0cr\\x0co\\x0co\\x0cm\\x0cs\\x0c,\\x0c \\x0co\\x0cn\\x0ci\\x0co\\x0cn\\x0cs\\x0c,\\x0c \\x0co\\x0cl\\x0ci\\x0cv\\x0ce\\x0cs\\x0c,\\x0c \\x0cv\\x0ce\\x0cg\\x0ce\\x0ct\\x0ca\\x0cb\\x0cl\\x0ce\\x0cs\\x0c,\\x0c \\x0cm\\x0ce\\x0ca\\x0ct\\x0c,\\x0c \\x0ch\\x0ca\\x0cm\\x0c,\\x0c \\x0ce\\x0ct\\x0cc\\x0c.\\x0c)\\x0c,\\x0c \\x0cw\\x0ch\\x0ci\\x0cc\\x0ch\\x0c \\x0ci\\x0cs\\x0c \\x0ct\\x0ch\\x0ce\\x0cn\\x0c \\x0cb\\x0ca\\x0ck\\x0ce\\x0cd\\x0c \\x0ca\\x0ct\\x0c \\x0ca\\x0c \\x0ch\\x0ci\\x0cg\\x0ch\\x0c \\x0ct\\x0ce\\x0cm\\x0cp\\x0ce\\x0cr\\x0ca\\x0ct\\x0cu\\x0cr\\x0ce\\x0c,\\x0c \\x0ct\\x0cr\\x0ca\\x0cd\\x0ci\\x0ct\\x0ci\\x0co\\x0cn\\x0ca\\x0cl\\x0cl\\x0cy\\x0c \\x0ci\\x0cn\\x0c \\x0ca\\x0c \\x0cw\\x0co\\x0co\\x0cd\\x0c-\\x0cf\\x0ci\\x0cr\\x0ce\\x0cd\\x0c \\x0co\\x0cv\\x0ce\\x0cn\\x0c.']\n"
     ]
    }
   ],
   "source": [
    "print(textaugs.insert_whitespace_chars(text))"
   ]
  },
  {
   "cell_type": "code",
   "execution_count": 38,
   "metadata": {},
   "outputs": [
    {
     "name": "stdout",
     "output_type": "stream",
     "text": [
      "['P\\u2064i\\u2064z\\u2064z\\u2064a\\u2064 \\u2064i\\u2064s\\u2064 \\u2064a\\u2064 \\u2064d\\u2064i\\u2064s\\u2064h\\u2064 \\u2064o\\u2064f\\u2064 \\u2064I\\u2064t\\u2064a\\u2064l\\u2064i\\u2064a\\u2064n\\u2064 \\u2064o\\u2064r\\u2064i\\u2064g\\u2064i\\u2064n\\u2064 \\u2064c\\u2064o\\u2064n\\u2064s\\u2064i\\u2064s\\u2064t\\u2064i\\u2064n\\u2064g\\u2064 \\u2064o\\u2064f\\u2064 \\u2064a\\u2064 \\u2064u\\u2064s\\u2064u\\u2064a\\u2064l\\u2064l\\u2064y\\u2064 \\u2064r\\u2064o\\u2064u\\u2064n\\u2064d\\u2064,\\u2064 \\u2064f\\u2064l\\u2064a\\u2064t\\u2064 \\u2064b\\u2064a\\u2064s\\u2064e\\u2064 \\u2064o\\u2064f\\u2064 \\u2064l\\u2064e\\u2064a\\u2064v\\u2064e\\u2064n\\u2064e\\u2064d\\u2064 \\u2064w\\u2064h\\u2064e\\u2064a\\u2064t\\u2064-\\u2064b\\u2064a\\u2064s\\u2064e\\u2064d\\u2064 \\u2064d\\u2064o\\u2064u\\u2064g\\u2064h\\u2064 \\u2064t\\u2064o\\u2064p\\u2064p\\u2064e\\u2064d\\u2064 \\u2064w\\u2064i\\u2064t\\u2064h\\u2064 \\u2064t\\u2064o\\u2064m\\u2064a\\u2064t\\u2064o\\u2064e\\u2064s\\u2064,\\u2064 \\u2064c\\u2064h\\u2064e\\u2064e\\u2064s\\u2064e\\u2064,\\u2064 \\u2064a\\u2064n\\u2064d\\u2064 \\u2064o\\u2064f\\u2064t\\u2064e\\u2064n\\u2064 \\u2064v\\u2064a\\u2064r\\u2064i\\u2064o\\u2064u\\u2064s\\u2064 \\u2064o\\u2064t\\u2064h\\u2064e\\u2064r\\u2064 \\u2064i\\u2064n\\u2064g\\u2064r\\u2064e\\u2064d\\u2064i\\u2064e\\u2064n\\u2064t\\u2064s\\u2064 \\u2064(\\u2064s\\u2064u\\u2064c\\u2064h\\u2064 \\u2064a\\u2064s\\u2064 \\u2064v\\u2064a\\u2064r\\u2064i\\u2064o\\u2064u\\u2064s\\u2064 \\u2064t\\u2064y\\u2064p\\u2064e\\u2064s\\u2064 \\u2064o\\u2064f\\u2064 \\u2064s\\u2064a\\u2064u\\u2064s\\u2064a\\u2064g\\u2064e\\u2064,\\u2064 \\u2064a\\u2064n\\u2064c\\u2064h\\u2064o\\u2064v\\u2064i\\u2064e\\u2064s\\u2064,\\u2064 \\u2064m\\u2064u\\u2064s\\u2064h\\u2064r\\u2064o\\u2064o\\u2064m\\u2064s\\u2064,\\u2064 \\u2064o\\u2064n\\u2064i\\u2064o\\u2064n\\u2064s\\u2064,\\u2064 \\u2064o\\u2064l\\u2064i\\u2064v\\u2064e\\u2064s\\u2064,\\u2064 \\u2064v\\u2064e\\u2064g\\u2064e\\u2064t\\u2064a\\u2064b\\u2064l\\u2064e\\u2064s\\u2064,\\u2064 \\u2064m\\u2064e\\u2064a\\u2064t\\u2064,\\u2064 \\u2064h\\u2064a\\u2064m\\u2064,\\u2064 \\u2064e\\u2064t\\u2064c\\u2064.\\u2064)\\u2064,\\u2064 \\u2064w\\u2064h\\u2064i\\u2064c\\u2064h\\u2064 \\u2064i\\u2064s\\u2064 \\u2064t\\u2064h\\u2064e\\u2064n\\u2064 \\u2064b\\u2064a\\u2064k\\u2064e\\u2064d\\u2064 \\u2064a\\u2064t\\u2064 \\u2064a\\u2064 \\u2064h\\u2064i\\u2064g\\u2064h\\u2064 \\u2064t\\u2064e\\u2064m\\u2064p\\u2064e\\u2064r\\u2064a\\u2064t\\u2064u\\u2064r\\u2064e\\u2064,\\u2064 \\u2064t\\u2064r\\u2064a\\u2064d\\u2064i\\u2064t\\u2064i\\u2064o\\u2064n\\u2064a\\u2064l\\u2064l\\u2064y\\u2064 \\u2064i\\u2064n\\u2064 \\u2064a\\u2064 \\u2064w\\u2064o\\u2064o\\u2064d\\u2064-\\u2064f\\u2064i\\u2064r\\u2064e\\u2064d\\u2064 \\u2064o\\u2064v\\u2064e\\u2064n\\u2064.']\n"
     ]
    }
   ],
   "source": [
    "print(textaugs.insert_zero_width_chars(text))"
   ]
  },
  {
   "cell_type": "code",
   "execution_count": 39,
   "metadata": {},
   "outputs": [
    {
     "name": "stdout",
     "output_type": "stream",
     "text": [
      "Pizzais a dish ofItalian originconsisting of a usually round, flat base ofleavened wheat-based dough topped withtomatoes, cheese, and often various other ingredients (suchas various typesof sausage, anchovies, mushrooms, onions, olives, vegetables, meat, ham, etc.), which is then baked at a hightemperature, traditionally in a wood-firedoven.\n"
     ]
    }
   ],
   "source": [
    "print(textaugs.merge_words(text))"
   ]
  },
  {
   "cell_type": "code",
   "execution_count": 40,
   "metadata": {},
   "outputs": [
    {
     "name": "stdout",
     "output_type": "stream",
     "text": [
      "['\\u202e.nevo derif-doow a ni yllanoitidart ,erutarepmet hgih a ta dekab neht si hcihw ,).cte ,mah ,taem ,selbategev ,sevilo ,snoino ,smoorhsum ,seivohcna ,egasuas fo sepyt suoirav sa hcus( stneidergni rehto suoirav netfo dna ,eseehc ,seotamot htiw deppot hguod desab-taehw denevael fo esab talf ,dnuor yllausu a fo gnitsisnoc nigiro nailatI fo hsid a si azziP\\u202c']\n"
     ]
    }
   ],
   "source": [
    "print(textaugs.replace_bidirectional(text))"
   ]
  },
  {
   "cell_type": "code",
   "execution_count": 41,
   "metadata": {},
   "outputs": [
    {
     "name": "stdout",
     "output_type": "stream",
     "text": [
      "P̳i̳z̳z̳a̳ i̳s̳ a̳ d̳i̳s̳h̳ o̳f̳ I̳t̳a̳l̳i̳a̳n̳ o̳r̳i̳g̳i̳n̳ c̳o̳n̳s̳i̳s̳t̳i̳n̳g̳ o̳f̳ a̳ u̳s̳u̳a̳l̳l̳y̳ r̳o̳u̳n̳d̳ ,̳ f̳l̳a̳t̳ b̳a̳s̳e̳ o̳f̳ l̳e̳a̳v̳e̳n̳e̳d̳ w̳h̳e̳a̳t̳ -̳ b̳a̳s̳e̳d̳ d̳o̳u̳g̳h̳ t̳o̳p̳p̳e̳d̳ w̳i̳t̳h̳ t̳o̳m̳a̳t̳o̳e̳s̳ ,̳ c̳h̳e̳e̳s̳e̳ ,̳ a̳n̳d̳ o̳f̳t̳e̳n̳ v̳a̳r̳i̳o̳u̳s̳ o̳t̳h̳e̳r̳ i̳n̳g̳r̳e̳d̳i̳e̳n̳t̳s̳ (̳ s̳u̳c̳h̳ a̳s̳ v̳a̳r̳i̳o̳u̳s̳ t̳y̳p̳e̳s̳ o̳f̳ s̳a̳u̳s̳a̳g̳e̳ ,̳ a̳n̳c̳h̳o̳v̳i̳e̳s̳ ,̳ m̳u̳s̳h̳r̳o̳o̳m̳s̳ ,̳ o̳n̳i̳o̳n̳s̳ ,̳ o̳l̳i̳v̳e̳s̳ ,̳ v̳e̳g̳e̳t̳a̳b̳l̳e̳s̳ ,̳ m̳e̳a̳t̳ ,̳ h̳a̳m̳ ,̳ e̳t̳c̳.̳ )̳ ,̳ w̳h̳i̳c̳h̳ i̳s̳ t̳h̳e̳n̳ b̳a̳k̳e̳d̳ a̳t̳ a̳ h̳i̳g̳h̳ t̳e̳m̳p̳e̳r̳a̳t̳u̳r̳e̳ ,̳ t̳r̳a̳d̳i̳t̳i̳o̳n̳a̳l̳l̳y̳ i̳n̳ a̳ w̳o̳o̳d̳ -̳ f̳i̳r̳e̳d̳ o̳v̳e̳n̳.̳\n"
     ]
    }
   ],
   "source": [
    "print(textaugs.replace_fun_fonts(text))"
   ]
  },
  {
   "cell_type": "code",
   "execution_count": 42,
   "metadata": {},
   "outputs": [
    {
     "name": "stdout",
     "output_type": "stream",
     "text": [
      "Pizza 1s a dish Df Italian orig7n consisting of a usually round, flat bas3 of leavened wheat-based |)ough topped with tom@t[]es, cheese, and often var|ous ot)-(er ingredients (su[h 4s various types of sausage, anchovies, mushrooms, onions, olives, vegetables, m3at, ham, etc.), which 1s then baked a7 a |-|igh temperature, tradit!0na|_ly i^ a VVood-fired ove^.\n"
     ]
    }
   ],
   "source": [
    "print(textaugs.replace_similar_chars(text))"
   ]
  },
  {
   "cell_type": "code",
   "execution_count": 43,
   "metadata": {},
   "outputs": [
    {
     "name": "stdout",
     "output_type": "stream",
     "text": [
      "PiⓏza Ⓘs a dish oƒ Italian origin Ćonsϊstin₲ of a usuαlḽy round, flat base of leáveneð wheat-based douᎶh topped with tomatoes, cheese, and oᚩten vᎯrÏous otheᚱ ingreᚧiĒñts (such as various types o₣ sauşaᶃe, anchovies, mushrooms, onΐons, olive§, vegetables, ᗰeat, Ћam, eŤc.), whᎥch i₰ then baked at a high temperature, traditionally in a Ꮚood-fired ovÊn.\n"
     ]
    }
   ],
   "source": [
    "print(textaugs.replace_similar_unicode_chars(text))"
   ]
  },
  {
   "cell_type": "code",
   "execution_count": 45,
   "metadata": {},
   "outputs": [
    {
     "name": "stdout",
     "output_type": "stream",
     "text": [
      "˙uǝʌo pǝɹᴉɟ-pooʍ ɐ uᴉ ʎllɐuoᴉʇᴉpɐɹʇ 'ǝɹnʇɐɹǝdɯǝʇ ɥɓᴉɥ ɐ ʇɐ pǝʞɐq uǝɥʇ sᴉ ɥɔᴉɥʍ ')˙ɔʇǝ 'ɯɐɥ 'ʇɐǝɯ 'sǝlqɐʇǝɓǝʌ 'sǝʌᴉlo 'suoᴉuo 'sɯooɹɥsnɯ 'sǝᴉʌoɥɔuɐ 'ǝɓɐsnɐs ɟo sǝdʎʇ snoᴉɹɐʌ sɐ ɥɔns( sʇuǝᴉpǝɹɓuᴉ ɹǝɥʇo snoᴉɹɐʌ uǝʇɟo puɐ 'ǝsǝǝɥɔ 'sǝoʇɐɯoʇ ɥʇᴉʍ pǝddoʇ ɥɓnop pǝsɐq-ʇɐǝɥʍ pǝuǝʌɐǝl ɟo ǝsɐq ʇɐlɟ 'punoɹ ʎllɐnsn ɐ ɟo ɓuᴉʇsᴉsuoɔ uᴉɓᴉɹo uɐᴉlɐʇI ɟo ɥsᴉp ɐ sᴉ ɐzzᴉԀ\n"
     ]
    }
   ],
   "source": [
    "print(textaugs.replace_upside_down(text))"
   ]
  },
  {
   "cell_type": "code",
   "execution_count": 52,
   "metadata": {},
   "outputs": [
    {
     "name": "stdout",
     "output_type": "stream",
     "text": [
      "Pizza i5s a dish of Italian origin conissting of a usualy round, flat base of leavebed wheat-based dough top(ed iwth tomatos, chevese, and often carious otehr ingredients (such sa va^rious types oa sausage, ancbovies, mushoroms, onions, loives, vegetables, meat, ham, etc.), which is then baked ast a hihg tempertaure, tradionally in a wood-fired ovfen.\n"
     ]
    }
   ],
   "source": [
    "print(textaugs.simulate_typos(text))"
   ]
  },
  {
   "cell_type": "code",
   "execution_count": 53,
   "metadata": {},
   "outputs": [
    {
     "name": "stdout",
     "output_type": "stream",
     "text": [
      "Pizza is a dis h of Ital ian origin consisting of a usually round, fl at b ase of leavened wh eat-ba sed doug h top ped wi th tomatoes, ch eese, and often various other ingredi ents (s uch as variou s types of sausage, ancho vies, mushrooms, onion s, ol ives, vegetables, mea t, ham, etc.), which is th en baked at a hig h tempera ture, traditionally in a w ood-fire d oven.\n"
     ]
    }
   ],
   "source": [
    "print(textaugs.split_words(text))"
   ]
  },
  {
   "cell_type": "markdown",
   "metadata": {},
   "source": [
    "---\n",
    "\n",
    "# TextAugment\n",
    "\n",
    "TextAugment is a Python 3 library for augmenting text for natural language processing applications. TextAugment stands on the giant shoulders of NLTK, Gensim, and TextBlob and plays nicely with them.\n",
    "\n",
    "- [GitHub - TextAugment](https://github.com/dsfsi/textaugment)"
   ]
  },
  {
   "cell_type": "code",
   "execution_count": null,
   "metadata": {},
   "outputs": [],
   "source": [
    "!pip install textaugment"
   ]
  },
  {
   "cell_type": "code",
   "execution_count": null,
   "metadata": {},
   "outputs": [],
   "source": [
    "!pip install numpy nltk gensim textblob googletrans "
   ]
  },
  {
   "cell_type": "code",
   "execution_count": null,
   "metadata": {},
   "outputs": [],
   "source": [
    "!pip install --upgrade gensim"
   ]
  },
  {
   "cell_type": "code",
   "execution_count": 60,
   "metadata": {},
   "outputs": [],
   "source": [
    "import nltk\n",
    "import gensim"
   ]
  },
  {
   "cell_type": "code",
   "execution_count": 89,
   "metadata": {},
   "outputs": [
    {
     "name": "stderr",
     "output_type": "stream",
     "text": [
      "[nltk_data] Downloading package wordnet to /root/nltk_data...\n",
      "[nltk_data]   Package wordnet is already up-to-date!\n",
      "[nltk_data] Downloading package punkt to /root/nltk_data...\n",
      "[nltk_data]   Package punkt is already up-to-date!\n",
      "[nltk_data] Downloading package averaged_perceptron_tagger to\n",
      "[nltk_data]     /root/nltk_data...\n",
      "[nltk_data]   Package averaged_perceptron_tagger is already up-to-\n",
      "[nltk_data]       date!\n"
     ]
    },
    {
     "data": {
      "text/plain": [
       "True"
      ]
     },
     "execution_count": 89,
     "metadata": {},
     "output_type": "execute_result"
    }
   ],
   "source": [
    "nltk.download(['wordnet','punkt','averaged_perceptron_tagger'])\n",
    "\n",
    "# averaged_perceptron_tagger - The following code downloads default NLTK part-of-speech tagger model. \n",
    "# A part-of-speech tagger processes a sequence of words, and attaches a part of speech tag to each word."
   ]
  },
  {
   "cell_type": "markdown",
   "metadata": {},
   "source": [
    "Use gensim to load a pre-trained word2vec model."
   ]
  },
  {
   "cell_type": "code",
   "execution_count": 81,
   "metadata": {},
   "outputs": [],
   "source": [
    "from textaugment import Word2vec\n",
    "from textaugment import Wordnet\n",
    "from textaugment import Translate"
   ]
  },
  {
   "cell_type": "code",
   "execution_count": 88,
   "metadata": {},
   "outputs": [
    {
     "name": "stdout",
     "output_type": "stream",
     "text": [
      "Pizza is a dish of Italian origin consisting of a usually round, flat base of leavened wheat-based dough topped with tomatoes, cheese, and often various other ingredients (such as various types of sausage, anchovies, mushrooms, onions, olives, vegetables, meat, ham, etc.), which is then baked at a high temperature, traditionally in a wood-fired oven. \n",
      "\n"
     ]
    },
    {
     "data": {
      "text/plain": [
       "'pizza is a dish of italian origin made up of a flat base and a lefa wheat dough, garnished with tomatoes, cheese and often other ingredients (such as various types of sausages, anchovies, anchovies, anchovies, anchovies, anchovies, anchovies, anchovies, anchovies mushrooms, onions, olives, vegetables, meat, ham, etc.), which is then cooked at high temperature, traditionally in a wood oven.'"
      ]
     },
     "execution_count": 88,
     "metadata": {},
     "output_type": "execute_result"
    }
   ],
   "source": [
    "src = \"en\" # source language of the sentence\n",
    "#to = \"fr\" # target language\n",
    "to = \"es\" # target language\n",
    "\n",
    "t = Translate(src=\"en\", to=\"fr\")\n",
    "print(text, '\\n')\n",
    "t.augment(text)"
   ]
  },
  {
   "cell_type": "markdown",
   "metadata": {},
   "source": [
    "## Load Fasttext Embeddings\n",
    "\n",
    "Fasttext has Pre-trained word vectors on English webcrawl and Wikipedia which you can find [here](https://fasttext.cc/docs/en/english-vectors.html) as well as Pre-trained models for 157 different languages which you can find [here](https://fasttext.cc/docs/en/crawl-vectors.html)"
   ]
  },
  {
   "cell_type": "code",
   "execution_count": 91,
   "metadata": {},
   "outputs": [
    {
     "name": "stdout",
     "output_type": "stream",
     "text": [
      "--2023-02-10 21:03:19--  https://dl.fbaipublicfiles.com/fasttext/vectors-crawl/cc.en.300.bin.gz\n",
      "Resolving dl.fbaipublicfiles.com (dl.fbaipublicfiles.com)... 104.22.75.142, 104.22.74.142, 172.67.9.4, ...\n",
      "Connecting to dl.fbaipublicfiles.com (dl.fbaipublicfiles.com)|104.22.75.142|:443... connected.\n",
      "HTTP request sent, awaiting response... 200 OK\n",
      "Length: 4503593528 (4.2G) [application/octet-stream]\n",
      "Saving to: ‘cc.en.300.bin.gz’\n",
      "\n",
      "cc.en.300.bin.gz    100%[===================>]   4.19G  37.1MB/s    in 2m 9s   \n",
      "\n",
      "2023-02-10 21:05:30 (33.4 MB/s) - ‘cc.en.300.bin.gz’ saved [4503593528/4503593528]\n",
      "\n"
     ]
    }
   ],
   "source": [
    "# Download the FastText embeddings in the language of your choice\n",
    "!wget \"https://dl.fbaipublicfiles.com/fasttext/vectors-crawl/cc.en.300.bin.gz\""
   ]
  },
  {
   "cell_type": "code",
   "execution_count": 3,
   "metadata": {},
   "outputs": [
    {
     "name": "stdout",
     "output_type": "stream",
     "text": [
      "Collecting gensim\n",
      "  Using cached gensim-4.2.0-cp36-cp36m-linux_x86_64.whl\n",
      "Requirement already satisfied: scipy>=0.18.1 in /opt/conda/lib/python3.6/site-packages (from gensim) (1.5.4)\n",
      "Requirement already satisfied: numpy>=1.17.0 in /opt/conda/lib/python3.6/site-packages (from gensim) (1.19.1)\n",
      "Requirement already satisfied: smart-open>=1.8.1 in /opt/conda/lib/python3.6/site-packages (from gensim) (5.2.1)\n",
      "Installing collected packages: gensim\n",
      "Successfully installed gensim-4.2.0\n",
      "\u001b[33mWARNING: Running pip as the 'root' user can result in broken permissions and conflicting behaviour with the system package manager. It is recommended to use a virtual environment instead: https://pip.pypa.io/warnings/venv\u001b[0m\n"
     ]
    }
   ],
   "source": [
    "!pip install gensim"
   ]
  },
  {
   "cell_type": "code",
   "execution_count": null,
   "metadata": {},
   "outputs": [],
   "source": [
    "# save path to your pre-trained model\n",
    "import gensim\n",
    "from gensim.test.utils import datapath\n",
    "#pretrained_path = datapath('keywords-phrases-extraction/notebooks/cc.en.300.bin.gz')\n",
    "\n",
    "# load model\n",
    "model = gensim.models.fasttext.load_facebook_model('cc.en.300.bin.gz')"
   ]
  },
  {
   "cell_type": "code",
   "execution_count": null,
   "metadata": {},
   "outputs": [],
   "source": [
    "from textaugment import Word2vec\n",
    "t = Word2vec(model = model.wv)\n",
    "output = t.augment('The stories are good')"
   ]
  },
  {
   "cell_type": "markdown",
   "metadata": {},
   "source": [
    "---\n",
    "# GPT-3 by OpenAI"
   ]
  },
  {
   "cell_type": "code",
   "execution_count": null,
   "metadata": {},
   "outputs": [],
   "source": [
    "!pip install openai"
   ]
  },
  {
   "cell_type": "code",
   "execution_count": 11,
   "metadata": {},
   "outputs": [],
   "source": [
    "import openai"
   ]
  },
  {
   "cell_type": "code",
   "execution_count": 12,
   "metadata": {},
   "outputs": [],
   "source": [
    "# Add your key here\n",
    "openai.api_key = ('')"
   ]
  },
  {
   "cell_type": "code",
   "execution_count": 36,
   "metadata": {},
   "outputs": [],
   "source": [
    "# Prompts\n",
    "\n",
    "# Change ingredients\n",
    "#prompt = 'Change ingredients in this sentence'\n",
    "#prompt = 'Change ingredients in this sentence to seafood'\n",
    "#prompt = 'Change ingredients in this sentence to make Peperroni piza'\n",
    "\n",
    "\n",
    "# Rephrase\n",
    "#prompt = 'Rephrase this sentence'\n",
    "prompt = 'Rephrase and change ingredients in this sentence'\n",
    "\n",
    "\n",
    "# Summary\n",
    "#prompt = 'Make a summary of this sentence:'\n",
    "\n",
    "\n",
    "# Change with synonyms\n",
    "#prompt = 'Change with synonyms this sentence'\n",
    "\n",
    "\n",
    "# Augment\n",
    "#prompt = 'Augment this sentence'"
   ]
  },
  {
   "cell_type": "code",
   "execution_count": 37,
   "metadata": {},
   "outputs": [
    {
     "name": "stdout",
     "output_type": "stream",
     "text": [
      "Pizza is a dish of Italian origin consisting of a usually round, flat base of leavened wheat-based dough topped with tomatoes, cheese, and often various other ingredients (such as various types of sausage, anchovies, mushrooms, onions, olives, vegetables, meat, ham, etc.), which is then baked at a high temperature, traditionally in a wood-fired oven.\n",
      "\n",
      "\n",
      " Rephrase and change ingredients in this sentence :\n"
     ]
    },
    {
     "data": {
      "text/plain": [
       "<OpenAIObject text_completion id=cmpl-6m5Bx5ksE7lERR26CgQdbhvR5hmLb at 0x7fc263d48bf8> JSON: {\n",
       "  \"choices\": [\n",
       "    {\n",
       "      \"finish_reason\": \"stop\",\n",
       "      \"index\": 0,\n",
       "      \"logprobs\": null,\n",
       "      \"text\": \"\\nPizza, an Italian dish characterized by a flat, round base of yeast-risen wheat dough topped with tomatoes and cheese plus additional toppings such as sausage, anchovies, mushrooms, onions, olives, vegetables, meat or ham is traditionally cooked at a high temperature in a wood-fired oven.\"\n",
       "    },\n",
       "    {\n",
       "      \"finish_reason\": \"stop\",\n",
       "      \"index\": 1,\n",
       "      \"logprobs\": null,\n",
       "      \"text\": \"\\nPizza is an Italian favorite that typically consists of a flat, round base made with leavened wheat-based dough, topped with tomatoes and cheese plus other ingredients like different types of sausage, anchovies, mushrooms, onions, olives, vegetables, meat or ham. The pie is then baked at a high temperature in a wood-fired oven.\"\n",
       "    },\n",
       "    {\n",
       "      \"finish_reason\": \"stop\",\n",
       "      \"index\": 2,\n",
       "      \"logprobs\": null,\n",
       "      \"text\": \"\\nPizza is a popular Italian dish consisting of a thin, flat base made with leavened wheat dough and topped with tomatoes, cheese, and other various toppings including sausage, anchovies, mushrooms, onions, olives, vegetables, meat or ham. This savory delight is then cooked at high temperature in an authentic wood-fired oven.\"\n",
       "    }\n",
       "  ],\n",
       "  \"created\": 1676917721,\n",
       "  \"id\": \"cmpl-6m5Bx5ksE7lERR26CgQdbhvR5hmLb\",\n",
       "  \"model\": \"text-davinci-003\",\n",
       "  \"object\": \"text_completion\",\n",
       "  \"usage\": {\n",
       "    \"completion_tokens\": 267,\n",
       "    \"prompt_tokens\": 91,\n",
       "    \"total_tokens\": 358\n",
       "  }\n",
       "}"
      ]
     },
     "execution_count": 37,
     "metadata": {},
     "output_type": "execute_result"
    }
   ],
   "source": [
    "# Models:\n",
    "# `text-curie-001`\n",
    "# `text-babbage-001`\n",
    "# `text-ada-001`\n",
    "# `text-davinci-003`\n",
    "\n",
    "response_extract = openai.Completion.create(\n",
    "    model = \"text-davinci-003\",\n",
    "    prompt = \"{}:\\n\\n{}\\n\\n\".format(prompt, text),\n",
    "    #suffix = '\\n\\n', \n",
    "    max_tokens = 1500,\n",
    "    temperature = 0.7,\n",
    "    #top_p = 1.0,\n",
    "    n = 3, \n",
    "    #stream = True,\n",
    "    #logprobs = 3,\n",
    "    #echo = True,\n",
    "    #stop = None,\n",
    "    presence_penalty = 1,  #0.0\n",
    "    frequency_penalty = 1, #0.8\n",
    "    best_of = 4,\n",
    "    #logit_bias = {16971: -100, 198: -100, 49802: -100, 6099: -100, 220: -100, 6099: -100} #remove word beer\n",
    ")\n",
    "\n",
    "print(text)\n",
    "print('\\n\\n', prompt, ':')\n",
    "response_extract\n",
    "#response_extract['choices'][0]['text']"
   ]
  },
  {
   "cell_type": "code",
   "execution_count": null,
   "metadata": {},
   "outputs": [],
   "source": []
  }
 ],
 "metadata": {
  "instance_type": "ml.t3.medium",
  "kernelspec": {
   "display_name": "Python 3 (PyTorch 1.8 Python 3.6 GPU Optimized)",
   "language": "python",
   "name": "python3__SAGEMAKER_INTERNAL__arn:aws:sagemaker:us-east-1:081325390199:image/pytorch-1.8-gpu-py36"
  },
  "language_info": {
   "codemirror_mode": {
    "name": "ipython",
    "version": 3
   },
   "file_extension": ".py",
   "mimetype": "text/x-python",
   "name": "python",
   "nbconvert_exporter": "python",
   "pygments_lexer": "ipython3",
   "version": "3.6.13"
  }
 },
 "nbformat": 4,
 "nbformat_minor": 4
}
